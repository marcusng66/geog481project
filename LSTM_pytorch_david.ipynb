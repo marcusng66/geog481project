{
  "nbformat": 4,
  "nbformat_minor": 0,
  "metadata": {
    "colab": {
      "name": "LSTM_pytorch_david",
      "provenance": []
    },
    "kernelspec": {
      "name": "python3",
      "display_name": "Python 3"
    },
    "accelerator": "GPU"
  },
  "cells": [
    {
      "cell_type": "markdown",
      "metadata": {
        "id": "6FIi8t8NUTEJ"
      },
      "source": [
        "# Time Series Prediction with LSTM Using PyTorch\n",
        "\n",
        "This kernel is based on *datasets* from\n",
        "\n",
        "[Time Series Forecasting with the Long Short-Term Memory Network in Python](https://machinelearningmastery.com/time-series-forecasting-long-short-term-memory-network-python/)\n",
        "\n",
        "[Time Series Prediction with LSTM Recurrent Neural Networks in Python with Keras](https://machinelearningmastery.com/time-series-prediction-lstm-recurrent-neural-networks-python-keras/)\n"
      ]
    },
    {
      "cell_type": "markdown",
      "metadata": {
        "id": "S9DqRvEBU4aL"
      },
      "source": [
        "## Download Dataset"
      ]
    },
    {
      "cell_type": "code",
      "metadata": {
        "id": "BKMrjozgU3I_"
      },
      "source": [
        "#!wget https://raw.githubusercontent.com/jbrownlee/Datasets/master/shampoo.csv"
      ],
      "execution_count": null,
      "outputs": []
    },
    {
      "cell_type": "code",
      "metadata": {
        "id": "lA_En8ZAUSKG",
        "colab": {
          "base_uri": "https://localhost:8080/"
        },
        "outputId": "0bff49ed-5877-4a08-d38f-4d58d98e20b8"
      },
      "source": [
        "!wget https://raw.githubusercontent.com/jbrownlee/Datasets/master/airline-passengers.csv"
      ],
      "execution_count": null,
      "outputs": [
        {
          "output_type": "stream",
          "text": [
            "--2020-12-14 18:37:44--  https://raw.githubusercontent.com/jbrownlee/Datasets/master/airline-passengers.csv\n",
            "Resolving raw.githubusercontent.com (raw.githubusercontent.com)... 151.101.0.133, 151.101.64.133, 151.101.128.133, ...\n",
            "Connecting to raw.githubusercontent.com (raw.githubusercontent.com)|151.101.0.133|:443... connected.\n",
            "HTTP request sent, awaiting response... 200 OK\n",
            "Length: 2180 (2.1K) [text/plain]\n",
            "Saving to: ‘airline-passengers.csv.3’\n",
            "\n",
            "\rairline-passengers.   0%[                    ]       0  --.-KB/s               \rairline-passengers. 100%[===================>]   2.13K  --.-KB/s    in 0s      \n",
            "\n",
            "2020-12-14 18:37:44 (60.7 MB/s) - ‘airline-passengers.csv.3’ saved [2180/2180]\n",
            "\n"
          ],
          "name": "stdout"
        }
      ]
    },
    {
      "cell_type": "code",
      "metadata": {
        "colab": {
          "base_uri": "https://localhost:8080/"
        },
        "id": "WMFfs2ipkY1g",
        "outputId": "c99d3362-9da5-47dc-a1d5-9470486d39ab"
      },
      "source": [
        "from google.colab import drive\n",
        "drive.mount('/content/drive')"
      ],
      "execution_count": 1,
      "outputs": [
        {
          "output_type": "stream",
          "text": [
            "Mounted at /content/drive\n"
          ],
          "name": "stdout"
        }
      ]
    },
    {
      "cell_type": "markdown",
      "metadata": {
        "id": "xSItPJipBaZ5"
      },
      "source": [
        "## Library"
      ]
    },
    {
      "cell_type": "code",
      "metadata": {
        "id": "wb-Z7wNKUJko",
        "colab": {
          "base_uri": "https://localhost:8080/",
          "height": 384
        },
        "outputId": "6e09b11b-86ed-4c89-8da6-e4d8b66f9eed"
      },
      "source": [
        "import numpy as np\n",
        "import matplotlib.pyplot as plt\n",
        "import pandas as pd\n",
        "import torch\n",
        "!pip install hydroeval\n",
        "import hydroeval as he\n",
        "import torch.nn as nn\n",
        "from torch.autograd import Variable\n",
        "from sklearn.preprocessing import MinMaxScaler\n",
        "from sklearn.metrics import r2_score\n",
        "from sklearn.metrics import mean_absolute_percentage_error\n",
        "from sklearn.utils import check_array"
      ],
      "execution_count": 46,
      "outputs": [
        {
          "output_type": "stream",
          "text": [
            "Requirement already satisfied: hydroeval in /usr/local/lib/python3.7/dist-packages (0.1.0)\n",
            "Requirement already satisfied: numpy in /usr/local/lib/python3.7/dist-packages (from hydroeval) (1.19.5)\n"
          ],
          "name": "stdout"
        },
        {
          "output_type": "error",
          "ename": "ImportError",
          "evalue": "ignored",
          "traceback": [
            "\u001b[0;31m---------------------------------------------------------------------------\u001b[0m",
            "\u001b[0;31mImportError\u001b[0m                               Traceback (most recent call last)",
            "\u001b[0;32m<ipython-input-46-8b9d638030b7>\u001b[0m in \u001b[0;36m<module>\u001b[0;34m()\u001b[0m\n\u001b[1;32m      9\u001b[0m \u001b[0;32mfrom\u001b[0m \u001b[0msklearn\u001b[0m\u001b[0;34m.\u001b[0m\u001b[0mpreprocessing\u001b[0m \u001b[0;32mimport\u001b[0m \u001b[0mMinMaxScaler\u001b[0m\u001b[0;34m\u001b[0m\u001b[0;34m\u001b[0m\u001b[0m\n\u001b[1;32m     10\u001b[0m \u001b[0;32mfrom\u001b[0m \u001b[0msklearn\u001b[0m\u001b[0;34m.\u001b[0m\u001b[0mmetrics\u001b[0m \u001b[0;32mimport\u001b[0m \u001b[0mr2_score\u001b[0m\u001b[0;34m\u001b[0m\u001b[0;34m\u001b[0m\u001b[0m\n\u001b[0;32m---> 11\u001b[0;31m \u001b[0;32mfrom\u001b[0m \u001b[0msklearn\u001b[0m\u001b[0;34m.\u001b[0m\u001b[0mmetrics\u001b[0m \u001b[0;32mimport\u001b[0m \u001b[0mmean_absolute_percentage_error\u001b[0m\u001b[0;34m\u001b[0m\u001b[0;34m\u001b[0m\u001b[0m\n\u001b[0m\u001b[1;32m     12\u001b[0m \u001b[0;32mfrom\u001b[0m \u001b[0msklearn\u001b[0m\u001b[0;34m.\u001b[0m\u001b[0mutils\u001b[0m \u001b[0;32mimport\u001b[0m \u001b[0mcheck_array\u001b[0m\u001b[0;34m\u001b[0m\u001b[0;34m\u001b[0m\u001b[0m\n",
            "\u001b[0;31mImportError\u001b[0m: cannot import name 'mean_absolute_percentage_error' from 'sklearn.metrics' (/usr/local/lib/python3.7/dist-packages/sklearn/metrics/__init__.py)",
            "",
            "\u001b[0;31m---------------------------------------------------------------------------\u001b[0;32m\nNOTE: If your import is failing due to a missing package, you can\nmanually install dependencies using either !pip or !apt.\n\nTo view examples of installing some common dependencies, click the\n\"Open Examples\" button below.\n\u001b[0;31m---------------------------------------------------------------------------\u001b[0m\n"
          ]
        }
      ]
    },
    {
      "cell_type": "markdown",
      "metadata": {
        "id": "e31mswiSBEEB"
      },
      "source": [
        "## Data Plot"
      ]
    },
    {
      "cell_type": "code",
      "metadata": {
        "id": "ooQPXSYhA_ps",
        "colab": {
          "base_uri": "https://localhost:8080/",
          "height": 265
        },
        "outputId": "6746116e-f508-4076-8e14-19036d27665a"
      },
      "source": [
        "training_set = pd.read_csv('/content/drive/MyDrive/Final_caruid_csv/BARLEY_1100.csv')\n",
        "#training_set = pd.read_csv('shampoo.csv')\n",
        "\n",
        "training_set.pop(\"Area\")\n",
        "training_set.pop(\"Year\")\n",
        "training_set = training_set.iloc[:,0:1].values\n",
        "\n",
        "#plt.plot(training_set, label = 'Shampoo Sales Data')\n",
        "plt.plot(training_set, label = 'Airline Passangers Data')\n",
        "plt.show()"
      ],
      "execution_count": 4,
      "outputs": [
        {
          "output_type": "display_data",
          "data": {
            "image/png": "[encoded data removed]",
            "text/plain": [
              "<Figure size 432x288 with 1 Axes>"
            ]
          },
          "metadata": {
            "tags": [],
            "needs_background": "light"
          }
        }
      ]
    },
    {
      "cell_type": "code",
      "metadata": {
        "colab": {
          "base_uri": "https://localhost:8080/"
        },
        "id": "1ANZUC5Iksjk",
        "outputId": "1d1e8ff5-8601-4560-c783-164fb6b9a57e"
      },
      "source": [
        "training_set"
      ],
      "execution_count": 5,
      "outputs": [
        {
          "output_type": "execute_result",
          "data": {
            "text/plain": [
              "array([[59.1],\n",
              "       [55.7],\n",
              "       [68.7],\n",
              "       [50.6],\n",
              "       [54.3],\n",
              "       [75. ],\n",
              "       [52. ],\n",
              "       [53.2],\n",
              "       [53.8],\n",
              "       [60. ],\n",
              "       [62. ],\n",
              "       [65. ],\n",
              "       [51. ],\n",
              "       [65. ],\n",
              "       [47. ],\n",
              "       [66. ],\n",
              "       [52. ],\n",
              "       [58. ],\n",
              "       [62. ],\n",
              "       [47. ],\n",
              "       [53. ],\n",
              "       [49. ],\n",
              "       [51. ],\n",
              "       [56. ],\n",
              "       [58. ],\n",
              "       [62. ],\n",
              "       [63.6],\n",
              "       [58.3],\n",
              "       [64.1],\n",
              "       [65.6],\n",
              "       [66.7],\n",
              "       [65.5],\n",
              "       [67.9],\n",
              "       [62.9]])"
            ]
          },
          "metadata": {
            "tags": []
          },
          "execution_count": 5
        }
      ]
    },
    {
      "cell_type": "markdown",
      "metadata": {
        "id": "NabsV8O5BBd5"
      },
      "source": [
        "## Dataloading"
      ]
    },
    {
      "cell_type": "code",
      "metadata": {
        "id": "vIWvJCpOVmwU"
      },
      "source": [
        "def sliding_windows(data, seq_length):\n",
        "    x = []\n",
        "    y = []\n",
        "\n",
        "    for i in range(len(data)-seq_length-1):\n",
        "        _x = data[i:(i+seq_length)]\n",
        "        _y = data[i+seq_length]\n",
        "        x.append(_x)\n",
        "        y.append(_y)\n",
        "\n",
        "    return np.array(x),np.array(y)\n",
        "\n",
        "sc = MinMaxScaler()\n",
        "training_data = sc.fit_transform(training_set)\n",
        "\n",
        "seq_length = 4\n",
        "x, y = sliding_windows(training_data, seq_length)\n",
        "\n",
        "train_size = int(len(y) * 0.67)\n",
        "test_size = len(y) - train_size\n",
        "\n",
        "dataX = Variable(torch.Tensor(np.array(x)))\n",
        "dataY = Variable(torch.Tensor(np.array(y)))\n",
        "\n",
        "trainX = Variable(torch.Tensor(np.array(x[0:train_size])))\n",
        "trainY = Variable(torch.Tensor(np.array(y[0:train_size])))\n",
        "\n",
        "testX = Variable(torch.Tensor(np.array(x[train_size:len(x)])))\n",
        "testY = Variable(torch.Tensor(np.array(y[train_size:len(y)])))"
      ],
      "execution_count": 6,
      "outputs": []
    },
    {
      "cell_type": "code",
      "metadata": {
        "colab": {
          "base_uri": "https://localhost:8080/"
        },
        "id": "jchSF1GT46vL",
        "outputId": "996aadda-b38a-4669-9443-55e7db667b57"
      },
      "source": [
        "training_data"
      ],
      "execution_count": 7,
      "outputs": [
        {
          "output_type": "execute_result",
          "data": {
            "text/plain": [
              "array([[0.43214286],\n",
              "       [0.31071429],\n",
              "       [0.775     ],\n",
              "       [0.12857143],\n",
              "       [0.26071429],\n",
              "       [1.        ],\n",
              "       [0.17857143],\n",
              "       [0.22142857],\n",
              "       [0.24285714],\n",
              "       [0.46428571],\n",
              "       [0.53571429],\n",
              "       [0.64285714],\n",
              "       [0.14285714],\n",
              "       [0.64285714],\n",
              "       [0.        ],\n",
              "       [0.67857143],\n",
              "       [0.17857143],\n",
              "       [0.39285714],\n",
              "       [0.53571429],\n",
              "       [0.        ],\n",
              "       [0.21428571],\n",
              "       [0.07142857],\n",
              "       [0.14285714],\n",
              "       [0.32142857],\n",
              "       [0.39285714],\n",
              "       [0.53571429],\n",
              "       [0.59285714],\n",
              "       [0.40357143],\n",
              "       [0.61071429],\n",
              "       [0.66428571],\n",
              "       [0.70357143],\n",
              "       [0.66071429],\n",
              "       [0.74642857],\n",
              "       [0.56785714]])"
            ]
          },
          "metadata": {
            "tags": []
          },
          "execution_count": 7
        }
      ]
    },
    {
      "cell_type": "markdown",
      "metadata": {
        "id": "--1LVbHOBSIy"
      },
      "source": [
        "## Model"
      ]
    },
    {
      "cell_type": "code",
      "metadata": {
        "id": "_BcDEjcABRVz"
      },
      "source": [
        "class LSTM(nn.Module):\n",
        "\n",
        "    def __init__(self, num_classes, input_size, hidden_size, num_layers):\n",
        "        super(LSTM, self).__init__()\n",
        "        \n",
        "        self.num_classes = num_classes\n",
        "        self.num_layers = num_layers\n",
        "        self.input_size = input_size\n",
        "        self.hidden_size = hidden_size\n",
        "        self.seq_length = seq_length\n",
        "        \n",
        "        self.lstm = nn.LSTM(input_size=input_size, hidden_size=hidden_size,\n",
        "                            num_layers=num_layers, batch_first=True)\n",
        "        \n",
        "        self.fc = nn.Linear(hidden_size, num_classes)\n",
        "\n",
        "    def forward(self, x):\n",
        "        h_0 = Variable(torch.zeros(\n",
        "            self.num_layers, x.size(0), self.hidden_size))\n",
        "        \n",
        "        c_0 = Variable(torch.zeros(\n",
        "            self.num_layers, x.size(0), self.hidden_size))\n",
        "        \n",
        "        # Propagate input through LSTM\n",
        "        ula, (h_out, _) = self.lstm(x, (h_0, c_0))\n",
        "        \n",
        "        h_out = h_out.view(-1, self.hidden_size)\n",
        "        \n",
        "        out = self.fc(h_out)\n",
        "        \n",
        "        return out"
      ],
      "execution_count": 8,
      "outputs": []
    },
    {
      "cell_type": "markdown",
      "metadata": {
        "id": "tdzFI5GJBUF5"
      },
      "source": [
        "## Training"
      ]
    },
    {
      "cell_type": "code",
      "metadata": {
        "id": "a2vvHeFgVtCp",
        "colab": {
          "base_uri": "https://localhost:8080/"
        },
        "outputId": "5f877dad-9575-49cf-92ed-d3c6d28683b2"
      },
      "source": [
        "num_epochs = 1000\n",
        "learning_rate = 0.01\n",
        "\n",
        "input_size = 1\n",
        "hidden_size = 2\n",
        "num_layers = 1\n",
        "\n",
        "num_classes = 1\n",
        "\n",
        "lstm = LSTM(num_classes, input_size, hidden_size, num_layers)\n",
        "\n",
        "criterion = torch.nn.MSELoss()    # mean-squared error for regression\n",
        "optimizer = torch.optim.Adam(lstm.parameters(), lr=learning_rate)\n",
        "#optimizer = torch.optim.SGD(lstm.parameters(), lr=learning_rate)\n",
        "\n",
        "# Train the model\n",
        "for epoch in range(num_epochs):\n",
        "    outputs = lstm(trainX)\n",
        "    optimizer.zero_grad()\n",
        "    \n",
        "    # obtain the loss function\n",
        "    loss = criterion(outputs, trainY)\n",
        "    \n",
        "    loss.backward()\n",
        "    \n",
        "    optimizer.step()\n",
        "    if epoch % 100 == 0:\n",
        "      print(\"Epoch: %d, loss: %1.5f\" % (epoch, loss.item()))"
      ],
      "execution_count": 9,
      "outputs": [
        {
          "output_type": "stream",
          "text": [
            "Epoch: 0, loss: 0.16477\n",
            "Epoch: 100, loss: 0.06657\n",
            "Epoch: 200, loss: 0.06223\n",
            "Epoch: 300, loss: 0.04581\n",
            "Epoch: 400, loss: 0.02337\n",
            "Epoch: 500, loss: 0.01444\n",
            "Epoch: 600, loss: 0.01019\n",
            "Epoch: 700, loss: 0.00693\n",
            "Epoch: 800, loss: 0.00440\n",
            "Epoch: 900, loss: 0.00345\n"
          ],
          "name": "stdout"
        }
      ]
    },
    {
      "cell_type": "markdown",
      "metadata": {
        "id": "35ndYIwIKteS"
      },
      "source": [
        "## Testing for Airplane Passengers Dataset"
      ]
    },
    {
      "cell_type": "code",
      "metadata": {
        "id": "CKEzO1jzKydL",
        "colab": {
          "base_uri": "https://localhost:8080/",
          "height": 294
        },
        "outputId": "671b2df6-b0dc-4733-8e32-1fe881bc624f"
      },
      "source": [
        "lstm.eval()\n",
        "train_predict = lstm(dataX)\n",
        "\n",
        "data_predict = train_predict.data.numpy()\n",
        "dataY_plot = dataY.data.numpy()\n",
        "\n",
        "data_predict = sc.inverse_transform(data_predict)\n",
        "dataY_plot = sc.inverse_transform(dataY_plot)\n",
        "\n",
        "plt.axvline(x=train_size, c='r', linestyle='--')\n",
        "\n",
        "plt.plot(dataY_plot)\n",
        "plt.plot(data_predict)\n",
        "plt.suptitle('Time-Series Prediction')\n",
        "plt.show()"
      ],
      "execution_count": 10,
      "outputs": [
        {
          "output_type": "display_data",
          "data": {
            "image/png": "[encoded data removed]",
            "text/plain": [
              "<Figure size 432x288 with 1 Axes>"
            ]
          },
          "metadata": {
            "tags": [],
            "needs_background": "light"
          }
        }
      ]
    },
    {
      "cell_type": "code",
      "metadata": {
        "colab": {
          "base_uri": "https://localhost:8080/"
        },
        "id": "u2_3tEYL3nf3",
        "outputId": "a6e0b0eb-33dd-4f0e-e92c-288095287d63"
      },
      "source": [
        "\n",
        "y_pred = []\n",
        "for i in (data_predict):\n",
        "  y_pred.append(i[0])\n",
        "\n",
        "y_pred"
      ],
      "execution_count": 21,
      "outputs": [
        {
          "output_type": "execute_result",
          "data": {
            "text/plain": [
              "[54.11334,\n",
              " 74.2105,\n",
              " 56.312237,\n",
              " 52.564255,\n",
              " 54.892506,\n",
              " 60.102497,\n",
              " 61.691486,\n",
              " 64.625305,\n",
              " 50.881233,\n",
              " 63.82489,\n",
              " 46.750584,\n",
              " 64.480606,\n",
              " 53.150978,\n",
              " 60.77352,\n",
              " 61.5618,\n",
              " 45.96406,\n",
              " 52.657394,\n",
              " 48.154522,\n",
              " 49.86045,\n",
              " 41.45173,\n",
              " 52.80181,\n",
              " 44.054382,\n",
              " 49.035328,\n",
              " 64.41868,\n",
              " 71.81035,\n",
              " 65.69301,\n",
              " 65.44132,\n",
              " 65.882164,\n",
              " 68.25815]"
            ]
          },
          "metadata": {
            "tags": []
          },
          "execution_count": 21
        }
      ]
    },
    {
      "cell_type": "code",
      "metadata": {
        "colab": {
          "base_uri": "https://localhost:8080/"
        },
        "id": "VgI35Uz0620J",
        "outputId": "2416c800-b3d8-4ea0-8f39-03294eead166"
      },
      "source": [
        "dataY_plot\n",
        "y_true = []\n",
        "for i in (dataY_plot):\n",
        "  y_true.append(i[0])\n",
        "\n",
        "y_true"
      ],
      "execution_count": 25,
      "outputs": [
        {
          "output_type": "execute_result",
          "data": {
            "text/plain": [
              "[54.300003,\n",
              " 75.0,\n",
              " 52.0,\n",
              " 53.2,\n",
              " 53.8,\n",
              " 60.0,\n",
              " 61.999996,\n",
              " 65.0,\n",
              " 51.0,\n",
              " 65.0,\n",
              " 47.0,\n",
              " 66.0,\n",
              " 52.0,\n",
              " 58.0,\n",
              " 61.999996,\n",
              " 47.0,\n",
              " 53.0,\n",
              " 49.0,\n",
              " 51.0,\n",
              " 56.0,\n",
              " 58.0,\n",
              " 61.999996,\n",
              " 63.6,\n",
              " 58.3,\n",
              " 64.1,\n",
              " 65.6,\n",
              " 66.7,\n",
              " 65.5,\n",
              " 67.9]"
            ]
          },
          "metadata": {
            "tags": []
          },
          "execution_count": 25
        }
      ]
    },
    {
      "cell_type": "code",
      "metadata": {
        "colab": {
          "base_uri": "https://localhost:8080/"
        },
        "id": "rqWhEsV1DXB5",
        "outputId": "11eca9c4-b9cb-4ae5-822b-3aaace30e77a"
      },
      "source": [
        "diff = []\n",
        "for i in range(1,len(y_true)):\n",
        "  diff.append(y_true[i] - y_pred[i])\n",
        "\n",
        "diff"
      ],
      "execution_count": 50,
      "outputs": [
        {
          "output_type": "execute_result",
          "data": {
            "text/plain": [
              "[0.7894974,\n",
              " -4.312237,\n",
              " 0.635746,\n",
              " -1.0925064,\n",
              " -0.1024971,\n",
              " 0.30850983,\n",
              " 0.37469482,\n",
              " 0.118766785,\n",
              " 1.1751099,\n",
              " 0.24941635,\n",
              " 1.5193939,\n",
              " -1.1509781,\n",
              " -2.7735214,\n",
              " 0.4381981,\n",
              " 1.0359383,\n",
              " 0.3426056,\n",
              " 0.84547806,\n",
              " 1.1395493,\n",
              " 14.548271,\n",
              " 5.198189,\n",
              " 17.945614,\n",
              " 14.564671,\n",
              " -6.118679,\n",
              " -7.71035,\n",
              " -0.09300995,\n",
              " 1.2586746,\n",
              " -0.382164,\n",
              " -0.35814667]"
            ]
          },
          "metadata": {
            "tags": []
          },
          "execution_count": 50
        }
      ]
    },
    {
      "cell_type": "code",
      "metadata": {
        "colab": {
          "base_uri": "https://localhost:8080/"
        },
        "id": "_Y-g-zxf7Gmu",
        "outputId": "48ca6cf5-423d-475b-c2e2-9ccdf8faf2c1"
      },
      "source": [
        "r2_score(y_true,y_pred)"
      ],
      "execution_count": 33,
      "outputs": [
        {
          "output_type": "execute_result",
          "data": {
            "text/plain": [
              "0.3595157714416224"
            ]
          },
          "metadata": {
            "tags": []
          },
          "execution_count": 33
        }
      ]
    },
    {
      "cell_type": "code",
      "metadata": {
        "colab": {
          "base_uri": "https://localhost:8080/"
        },
        "id": "DiKWd1LvACor",
        "outputId": "7649c81a-ccc3-4a20-963e-d866197b1825"
      },
      "source": [
        "\n",
        "def mean_absolute_percentage_error(y_t, y_p): \n",
        "    \n",
        "    return np.mean(np.abs((y_t - y_p) / y_t)) * 100\n",
        "mean_absolute_percentage_error(dataY_plot,data_predict)"
      ],
      "execution_count": 48,
      "outputs": [
        {
          "output_type": "execute_result",
          "data": {
            "text/plain": [
              "5.0343383103609085"
            ]
          },
          "metadata": {
            "tags": []
          },
          "execution_count": 48
        }
      ]
    },
    {
      "cell_type": "code",
      "metadata": {
        "colab": {
          "base_uri": "https://localhost:8080/"
        },
        "id": "2RU-TIVSEP_j",
        "outputId": "ee6ea185-0d5e-444f-c227-4bc7b156156a"
      },
      "source": [
        "nse = he.evaluator(he.nse, y_pred, y_true)\n",
        "nse"
      ],
      "execution_count": 52,
      "outputs": [
        {
          "output_type": "execute_result",
          "data": {
            "text/plain": [
              "array([0.35951577])"
            ]
          },
          "metadata": {
            "tags": []
          },
          "execution_count": 52
        }
      ]
    }
  ]
}