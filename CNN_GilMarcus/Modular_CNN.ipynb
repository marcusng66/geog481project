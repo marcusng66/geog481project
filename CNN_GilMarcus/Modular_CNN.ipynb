{
  "nbformat": 4,
  "nbformat_minor": 0,
  "metadata": {
    "colab": {
      "name": "Modular_CNN",
      "provenance": [],
      "collapsed_sections": []
    },
    "kernelspec": {
      "display_name": "Python 3",
      "name": "python3"
    },
    "language_info": {
      "name": "python"
    }
  },
  "cells": [
    {
      "cell_type": "markdown",
      "metadata": {
        "id": "nRs11VxtboeE"
      },
      "source": [
        "# Convolutional Neural Network For Crop Prediction and Forecasting\n",
        "\n",
        "This script is for Group 12, Machine Learning Covolutional Neural Network by Gil and Marcus. "
      ]
    },
    {
      "cell_type": "markdown",
      "metadata": {
        "id": "-bNrUGQ8DHU3"
      },
      "source": [
        "# Libraries\n",
        "\n",
        "This first section of the script is used to import the various libraries that are required for the model and the statistics we need to be outputted at the end. "
      ]
    },
    {
      "cell_type": "code",
      "metadata": {
        "id": "5oTRCgiJC2L3",
        "colab": {
          "base_uri": "https://localhost:8080/"
        },
        "outputId": "da026416-1fa7-45b0-cd84-cc623f652039"
      },
      "source": [
        "import os\n",
        "import datetime\n",
        "import csv\n",
        "from google.colab import drive\n",
        "drive.mount('/content/drive')\n",
        "\n",
        "import IPython\n",
        "import IPython.display\n",
        "import matplotlib as mpl\n",
        "import matplotlib.pyplot as plt\n",
        "import numpy as np\n",
        "import pandas as pd\n",
        "import seaborn as sns\n",
        "import tensorflow as tf\n",
        "import h5py\n",
        "from sklearn.metrics import r2_score\n",
        "from sklearn.preprocessing import StandardScaler"
      ],
      "execution_count": null,
      "outputs": [
        {
          "output_type": "stream",
          "text": [
            "Mounted at /content/drive\n"
          ],
          "name": "stdout"
        }
      ]
    },
    {
      "cell_type": "markdown",
      "metadata": {
        "id": "-x5hEcVsDMm2"
      },
      "source": [
        "# Constants and Global Variables\n",
        "\n",
        "This section is dedicated to determining the global variables that need to be carried over from the various modular components within the script. The Constants are the constants that we found worked best for creating the windows and training the models.\n"
      ]
    },
    {
      "cell_type": "code",
      "metadata": {
        "id": "AVFMzAoyC-uZ"
      },
      "source": [
        "# CONSTANTS\n",
        "\n",
        "OUT_STEPS = 19\n",
        "MAX_EPOCHS = 50\n",
        "\n",
        "# GLOBAL VARIABLES\n",
        "\n",
        "multi_val_performance = {}\n",
        "multi_performance = {}\n",
        "train_df = None\n",
        "val_df = None\n",
        "test_df = None\n",
        "num_features = []\n",
        "column_indices = []\n",
        "crop_type = []\n",
        "caruid = []\n",
        "history = []"
      ],
      "execution_count": null,
      "outputs": []
    },
    {
      "cell_type": "markdown",
      "metadata": {
        "id": "C_GuH8wlp9aU"
      },
      "source": [
        "# Extract Usable Models\n",
        "\n",
        "This section is for extracting the various models that would work with the CNN. Through implementation we discovered that the CNN does not accept CSV files that contain less than around 350 rows. To remedy this problem, we queried all the available CSV files and put the names into their own file. This section queries that CSV file to retrieve all models that fulfill the 350 row requirement."
      ]
    },
    {
      "cell_type": "code",
      "metadata": {
        "id": "EoH0FwMOuf2c",
        "colab": {
          "base_uri": "https://localhost:8080/",
          "height": 35
        },
        "outputId": "79a2dff0-e48f-4f6c-b8d1-9fbf5bef75ff"
      },
      "source": [
        "usable_models = []\n",
        "usable_path = \"/content/drive/MyDrive/GEOG481/compiled/{0}usable.csv\".format(\"Sprwht\") # Replace Sprwhat with either Barley or Canola\n",
        "with open(usable_path, newline = '') as csvfile: \n",
        "  csvreader = csv.reader(csvfile, delimiter = ' ', quotechar = '|')\n",
        "  for rows in csvreader:\n",
        "    usable_models.append(rows[0].split(\",\")[0].split(\".\")[0])\n",
        "usable_models.pop(0) # Remove \"File Name\" from the rows"
      ],
      "execution_count": null,
      "outputs": [
        {
          "output_type": "execute_result",
          "data": {
            "application/vnd.google.colaboratory.intrinsic+json": {
              "type": "string"
            },
            "text/plain": [
              "'File Name'"
            ]
          },
          "metadata": {
            "tags": []
          },
          "execution_count": 50
        }
      ]
    },
    {
      "cell_type": "markdown",
      "metadata": {
        "id": "jSvvlLCgDQ05"
      },
      "source": [
        "# Data Shaping and Manipulation\n",
        "\n",
        "The first section of the script involves taking the data from the CSV files and manipulating it to better fit into our CNN model. The first function, *data manipulation* is the manipulation of data that goes into our model. The second function, *create_dataset_X* is for configuring our data to be accepted for predictions."
      ]
    },
    {
      "cell_type": "code",
      "metadata": {
        "id": "m7XqOcZiDBFE"
      },
      "source": [
        "# Function to split our data into training, validation and test data\n",
        "def data_manipulation(csv_file):\n",
        "  global multi_val_performance, multi_performance, train_df, val_df, test_df\n",
        "  global num_features, column_indices, crop_type, caruid, history\n",
        "\n",
        "  # This section assigns the correct CSV path and splits it to determine the current Crop Type and CARUID\n",
        "  csv_path = \"/content/drive/MyDrive/GEOG481/david_input/{0}_output_david/{1}.csv\".format(csv_file.split(\"_\")[0].lower().capitalize(), csv_file)\n",
        "  split_path = csv_path.split(\"/\")\n",
        "  csv_split = split_path[-1].split(\"_\")\n",
        "  crop_type, caruid = csv_split[0], csv_split[1].split(\".\")[0]\n",
        "\n",
        "  # Remove the unwanted value (\"Year\")\n",
        "  df = pd.read_csv(csv_path)\n",
        "  date_time = df.pop('Year')\n",
        "\n",
        "  # Plotting Function\n",
        "  plot_cols = ['Yield']\n",
        "  plot_features = df[plot_cols]\n",
        "  plot_features.index = date_time\n",
        "  _ = plot_features.plot(subplots=True)\n",
        "\n",
        "  column_indices = {name: i for i, name in enumerate(df.columns)}\n",
        "\n",
        "  # This part splits the data into different categories (70%, 20%, 10%)\n",
        "  n = len(df)\n",
        "  train_df = df[0:int(n*0.7)]\n",
        "  val_df = df[int(n*0.7):int(n*0.9)]\n",
        "  test_df = df[int(n*0.9):]\n",
        "\n",
        "  num_features = df.shape[1]\n",
        "\n",
        "  # This Section normalizes the data so that it is all scaled properly\n",
        "  train_mean = train_df.mean()\n",
        "  train_std = train_df.std()\n",
        "\n",
        "  train_df = (train_df - train_mean) / train_std\n",
        "  val_df = (val_df - train_mean) / train_std\n",
        "  test_df = (test_df - train_mean) / train_std\n",
        "\n",
        "  # Plotting function\n",
        "  df_std = (df - train_mean) / train_std\n",
        "  df_std = df_std.melt(var_name='Column', value_name='Normalized')\n",
        "  plt.figure(figsize=(12, 6))\n",
        "  ax = sns.violinplot(x='Column', y='Normalized', data=df_std)\n",
        "  _ = ax.set_xticklabels(df.keys(), rotation=90)\n",
        "\n",
        "# Function that creates a dataset for prediction\n",
        "def create_dataset_X(X, time_steps=1):\n",
        "    Xs = []\n",
        "    for i in range(len(X) - time_steps):\n",
        "        v = X.iloc[i:(i + time_steps)].values\n",
        "        Xs.append(v)\n",
        "    return np.array(Xs)"
      ],
      "execution_count": null,
      "outputs": []
    },
    {
      "cell_type": "markdown",
      "metadata": {
        "id": "qTMW1g8sE8PN"
      },
      "source": [
        "# Creating the Window Generator\n",
        "\n",
        "This part of the script is used to create the WindowGenerator that acts as the backbone of the model. "
      ]
    },
    {
      "cell_type": "code",
      "metadata": {
        "id": "risOy96TE-5b"
      },
      "source": [
        "class WindowGenerator():\n",
        "  def __init__(self, input_width, label_width, shift,\n",
        "               train_df, val_df, test_df,\n",
        "               label_columns=None):\n",
        "    # Store the raw data.\n",
        "    self.train_df = train_df\n",
        "    self.val_df = val_df\n",
        "    self.test_df = test_df\n",
        "\n",
        "    # Work out the label column indices.\n",
        "    self.label_columns = label_columns\n",
        "    if label_columns is not None:\n",
        "      self.label_columns_indices = {name: i for i, name in\n",
        "                                    enumerate(label_columns)}\n",
        "    self.column_indices = {name: i for i, name in\n",
        "                           enumerate(train_df.columns)}\n",
        "\n",
        "    # Work out the window parameters.\n",
        "    self.input_width = input_width\n",
        "    self.label_width = label_width\n",
        "    self.shift = shift\n",
        "\n",
        "    self.total_window_size = input_width + shift\n",
        "\n",
        "    self.input_slice = slice(0, input_width)\n",
        "    self.input_indices = np.arange(self.total_window_size)[self.input_slice]\n",
        "\n",
        "    self.label_start = self.total_window_size - self.label_width\n",
        "    self.labels_slice = slice(self.label_start, None)\n",
        "    self.label_indices = np.arange(self.total_window_size)[self.labels_slice]\n",
        "\n",
        "  def __repr__(self):\n",
        "    return '\\n'.join([\n",
        "        f'Total window size: {self.total_window_size}',\n",
        "        f'Input indices: {self.input_indices}',\n",
        "        f'Label indices: {self.label_indices}',\n",
        "        f'Label column name(s): {self.label_columns}'])\n",
        "\n",
        "def split_window(self, features):\n",
        "  inputs = features[:, self.input_slice, :]\n",
        "  labels = features[:, self.labels_slice, :]\n",
        "  if self.label_columns is not None:\n",
        "      labels = tf.stack(\n",
        "          [labels[:, :, self.column_indices[name]] for name in self.label_columns],\n",
        "          axis=-1)\n",
        "\n",
        "  # Slicing doesn't preserve static shape information, so set the shapes\n",
        "  # manually. This way the `tf.data.Datasets` are easier to inspect.\n",
        "  inputs.set_shape([None, self.input_width, None])\n",
        "  labels.set_shape([None, self.label_width, None])\n",
        "\n",
        "  return inputs, labels\n",
        "\n",
        "def plot(self, model=None, plot_col='Yield', max_subplots=3):\n",
        "  inputs, labels = self.example\n",
        "  plt.figure(figsize=(12, 8))\n",
        "  plot_col_index = self.column_indices[plot_col]\n",
        "  max_n = min(max_subplots, len(inputs))\n",
        "  for n in range(max_n):\n",
        "    plt.subplot(max_n, 1, n+1)\n",
        "    plt.ylabel(f'{plot_col} [normed]')\n",
        "    plt.plot(self.input_indices, inputs[n, :, plot_col_index],\n",
        "             label='Inputs', marker='.', zorder=-10)\n",
        "    if self.label_columns:\n",
        "      label_col_index = self.label_columns_indices.get(plot_col, None)\n",
        "    else:\n",
        "      label_col_index = plot_col_index\n",
        "\n",
        "    if label_col_index is None:\n",
        "      continue\n",
        "\n",
        "    plt.scatter(self.label_indices, labels[n, :, label_col_index],\n",
        "                edgecolors='k', label='Labels', c='#2ca02c', s=64)\n",
        "    if model is not None:\n",
        "      predictions = model(inputs)\n",
        "      plt.scatter(self.label_indices, predictions[n, :, label_col_index],\n",
        "                  marker='X', edgecolors='k', label='Predictions',\n",
        "                  c='#ff7f0e', s=64)\n",
        "\n",
        "    if n == 0:\n",
        "      plt.legend()\n",
        "\n",
        "  plt.xlabel('Time [3-Week Average]')\n",
        "\n",
        "def make_dataset(self, data):\n",
        "    data = np.array(data, dtype=np.float32)\n",
        "    ds = tf.keras.preprocessing.timeseries_dataset_from_array(\n",
        "        data=data,\n",
        "        targets=None,\n",
        "        sequence_length=self.total_window_size,\n",
        "        sequence_stride=1,\n",
        "        shuffle=True,\n",
        "        batch_size=32,)\n",
        "\n",
        "    ds = ds.map(self.split_window)\n",
        "    return ds\n",
        "\n",
        "@property\n",
        "def train(self):\n",
        "  return self.make_dataset(self.train_df)\n",
        "\n",
        "@property\n",
        "def val(self):\n",
        "  return self.make_dataset(self.val_df)\n",
        "\n",
        "@property\n",
        "def test(self):\n",
        "  return self.make_dataset(self.test_df)\n",
        "\n",
        "@property\n",
        "def example(self):\n",
        "  \"\"\"Get and cache an example batch of `inputs, labels` for plotting.\"\"\"\n",
        "  result = getattr(self, '_example', None)\n",
        "  if result is None:\n",
        "    # No example batch was found, so get one from the `.train` dataset\n",
        "    result = next(iter(self.train))\n",
        "    # And cache it for next time\n",
        "    self._example = result\n",
        "  return result\n",
        "\n",
        "WindowGenerator.train = train\n",
        "WindowGenerator.val = val\n",
        "WindowGenerator.test = test\n",
        "WindowGenerator.example = example\n",
        "WindowGenerator.plot = plot\n",
        "WindowGenerator.split_window = split_window\n",
        "WindowGenerator.make_dataset = make_dataset\n"
      ],
      "execution_count": null,
      "outputs": []
    },
    {
      "cell_type": "markdown",
      "metadata": {
        "id": "drj2NKRspC64"
      },
      "source": [
        "# Compile and Fit Function\n",
        "\n",
        "This section is essentially the training procedure bottled into a single function.  "
      ]
    },
    {
      "cell_type": "code",
      "metadata": {
        "id": "Yc9iqD79pHID"
      },
      "source": [
        "def compile_and_fit(model, window, patience=5):\n",
        "  # Checkpoint callback usage\n",
        "  checkpoint_path = '/content/drive/MyDrive/GEOG481/output/{0}/Checkpoints/{1}/cp.ckpt'.format(crop_type, caruid)\n",
        "  # checkpoint_path = 'saved_model/Barley_1100/training_1/cp.ckpt'\n",
        "  \n",
        "  # Create a callback that saves the model's weights\n",
        "  cp_callback = tf.keras.callbacks.ModelCheckpoint(filepath=checkpoint_path,\n",
        "                                                  save_weights_only=True,\n",
        "                                                  monitor='val_accuracy',\n",
        "                                                  verbose=1)\n",
        "  \n",
        "  # Changed from meansquarederror() to SparseCategoricalCrossentropy()\n",
        "  # optimizer changed from tf.optimizer.Adam() to 'adam'\n",
        "  model.compile(loss=tf.losses.MeanSquaredError(),\n",
        "                optimizer='adam',\n",
        "                metrics=[tf.metrics.MeanSquaredError()])\n",
        "\n",
        "  history = model.fit(window.train, epochs=MAX_EPOCHS,\n",
        "                      validation_data=window.val,\n",
        "                      callbacks=[cp_callback])\n",
        "  return history"
      ],
      "execution_count": null,
      "outputs": []
    },
    {
      "cell_type": "markdown",
      "metadata": {
        "id": "Z4Ii2kZypSEc"
      },
      "source": [
        "# Model Creation\n",
        "\n",
        "This is the function that creates the model itself and determines the early statistics for the initial model creation."
      ]
    },
    {
      "cell_type": "code",
      "metadata": {
        "id": "gSwy3hl1pQyk"
      },
      "source": [
        "def model_creation(): \n",
        "  # Create the window that will be used to help create the model\n",
        "  multi_window = WindowGenerator(input_width=19,\n",
        "                                label_width=OUT_STEPS,\n",
        "                                shift=OUT_STEPS,\n",
        "                                train_df=train_df,\n",
        "                                val_df = val_df,\n",
        "                                test_df = test_df)\n",
        "  print(multi_window)\n",
        "\n",
        "  CONV_WIDTH = 3\n",
        "  multi_conv_model = tf.keras.Sequential([\n",
        "      # Shape [batch, time, features] => [batch, CONV_WIDTH, features]\n",
        "      tf.keras.layers.Lambda(lambda x: x[:, -CONV_WIDTH:, :]),\n",
        "      # Shape => [batch, 1, conv_units]\n",
        "      tf.keras.layers.Conv1D(256, activation='relu', kernel_size=(CONV_WIDTH)),\n",
        "      # Shape => [batch, 1, out_steps*features]\n",
        "      tf.keras.layers.Dense(OUT_STEPS*num_features,\n",
        "                            kernel_initializer=tf.initializers.zeros()),\n",
        "      # Shape => [batch, out_steps, features]\n",
        "      tf.keras.layers.Reshape([OUT_STEPS, num_features])\n",
        "  ])\n",
        "\n",
        "  # Train the model once using compile_and_fit\n",
        "  history = compile_and_fit(multi_conv_model, multi_window)\n",
        "\n",
        "  IPython.display.clear_output()\n",
        "\n",
        "  # Check the performance of the new model using the evaluate function\n",
        "  multi_val_performance['Conv'] = multi_conv_model.evaluate(multi_window.val, verbose=1)\n",
        "  multi_performance['Conv'] = multi_conv_model.evaluate(multi_window.test, batch_size=32, verbose=1)\n",
        "  multi_window.plot(multi_conv_model)\n",
        "\n",
        "  # Save it in the pre-determined directory\n",
        "  multi_conv_model.save('/content/drive/MyDrive/GEOG481/output/{0}/Models/{1}/model'.format(crop_type, caruid))\n",
        "\n",
        "  print(\"Model Created\")"
      ],
      "execution_count": null,
      "outputs": []
    },
    {
      "cell_type": "markdown",
      "metadata": {
        "id": "FWprdOAwpaoU"
      },
      "source": [
        "# Model Training\n",
        "\n",
        "This section is dedicated to performing the model training. We found that the optimal training length for our models were 20 interations using 50 epochs."
      ]
    },
    {
      "cell_type": "code",
      "metadata": {
        "id": "P-CSfSwSpcoa"
      },
      "source": [
        "def model_training():\n",
        "  for i in range(20):\n",
        "    # Recreate the multi-window, same as model creation\n",
        "    multi_window = WindowGenerator(input_width=19,\n",
        "                                  label_width=OUT_STEPS,\n",
        "                                  shift=OUT_STEPS,\n",
        "                                  train_df = train_df,\n",
        "                                  val_df = val_df,\n",
        "                                  test_df = test_df)\n",
        "\n",
        "    # Load the model that was saved previously\n",
        "    new_model = tf.keras.models.load_model('/content/drive/MyDrive/GEOG481/output/{0}/Models/{1}/model'.format(crop_type, caruid))\n",
        "    # Train the model again\n",
        "    history = compile_and_fit(new_model, multi_window)\n",
        "    # Save the model again\n",
        "    new_model.save('/content/drive/MyDrive/GEOG481/output/{0}/Models/{1}/model'.format(crop_type, caruid))\n",
        "\n",
        "  # Plot the performance of the new model\n",
        "  multi_window.plot(new_model)"
      ],
      "execution_count": null,
      "outputs": []
    },
    {
      "cell_type": "markdown",
      "metadata": {
        "id": "H28qn1TZU-HH"
      },
      "source": [
        "# Denormalize Predictions\n",
        "\n",
        "This is a helper function that is used to denormalize the predictions after the data is run through the predict function."
      ]
    },
    {
      "cell_type": "code",
      "metadata": {
        "id": "R1Hcf7shU9en"
      },
      "source": [
        "def denormalize_pred(predictions, train):\n",
        "  new_values =[]\n",
        "  train_mean = train_df.mean() # Redetermine the training mean\n",
        "  train_std = train_df.std() # Redetermine the training std\n",
        "\n",
        "  for arrays in predictions:\n",
        "    for predict_vals in arrays:\n",
        "      denormalized_values = (predict_vals*train_std) + train_mean # Convert the value back to normal\n",
        "      new_values.append(denormalized_values)\n",
        "\n",
        "  return new_values"
      ],
      "execution_count": null,
      "outputs": []
    },
    {
      "cell_type": "markdown",
      "metadata": {
        "id": "uGa3x9U-qVOa"
      },
      "source": [
        "# Prediction\n",
        "\n",
        "The final technical function in the script is the one that retrieves predictions and denormalizes them for use and comparison. It will use the full dataset as its input and retrieve predictions for comparison."
      ]
    },
    {
      "cell_type": "code",
      "metadata": {
        "id": "2xzRGj4YqUaz"
      },
      "source": [
        "def grab_predictions(file_name):\n",
        "  crop_type = file_name.split(\"_\")[0] \n",
        "  caruid = file_name.split(\"_\")[1].split(\".\")[0]\n",
        "  \n",
        "  new_model = tf.keras.models.load_model('/content/drive/MyDrive/GEOG481/output/{0}/Models/{1}/model'.format(crop_type, caruid))\n",
        "\n",
        "  # Retrieve the correct CSV for the model retrieved previously\n",
        "  df = pd.read_csv(direct + \"/\" + f)\n",
        "  df.pop(\"Year\")\n",
        "\n",
        "  # Recreate the same training, validation and test distributions as before\n",
        "  n = len(df)\n",
        "  train_df = df[0:int(n*0.7)]\n",
        "  val_df = df[int(n*0.7):int(n*0.9)]\n",
        "  test_df = df[int(n*0.9):]\n",
        "\n",
        "  # Normalize data once again\n",
        "  train_mean = train_df.mean()\n",
        "  train_std = train_df.std()\n",
        "\n",
        "  df = (df - train_mean) / train_std\n",
        "\n",
        "  # Create a valid dataset and retrieve predictions\n",
        "  time_steps = 19\n",
        "  X_full_data = create_dataset_X(df, time_steps)\n",
        "  df_pred = new_model.predict(X_full_data)\n",
        "\n",
        "  # Normalize and pull yields out of the .predict output\n",
        "  normalized_pred = denormalize_pred(df_pred, train)\n",
        "  yield_predictions = []\n",
        "  for predictions in normalized_pred:\n",
        "    yield_predictions.append(predictions[7])\n",
        "\n",
        "  # Find the average of every 19 window steps that was used in model creation\n",
        "  all_predictions = []\n",
        "  for i in range(0, 627):\n",
        "    current_predictions = yield_predictions[i*19: (i+1)*19]\n",
        "    all_predictions.append(np.mean(current_predictions))\n",
        "\n",
        "  # Add predictions to the CSV and save it to a new output file\n",
        "  df = pd.read_csv(direct + \"/\" + f)\n",
        "  yld_data = df[\"Yield\"][19:]\n",
        "  df = df[19:]\n",
        "  df[\"Predict\"] = all_predictions\n",
        "\n",
        "  #Create an output folder named [cropname]_predict, change directory here\n",
        "  df.to_csv(\"/content/drive/MyDrive/GEOG481/output/{0}/Predict/{1}_PREDICT.csv\".format(crop_type,file_name.split(\".\")[0]), index=False)"
      ],
      "execution_count": null,
      "outputs": []
    },
    {
      "cell_type": "markdown",
      "metadata": {
        "id": "yulNSPFiFBmh"
      },
      "source": [
        "# Model Creation Iteration\n",
        "\n",
        "This is the section used for iterating through all usable models and creating the models for each CARUID and crop type. Commented out so that new models aren't constantly recreated."
      ]
    },
    {
      "cell_type": "code",
      "metadata": {
        "id": "QrUzmeO_DU9j"
      },
      "source": [
        "# for file in usable_models:\n",
        "#   print(file)\n",
        "#   data_manipulation(file) # Manipulate Data\n",
        "#   model_creation() # Create Models\n",
        "  "
      ],
      "execution_count": null,
      "outputs": []
    },
    {
      "cell_type": "markdown",
      "metadata": {
        "id": "V9b19tvyq5qi"
      },
      "source": [
        "# Model Training Iteration\n",
        "\n",
        "This is the section used for iterating through all usable models and training the models for each CARUID and crop type. Commented out so that training isn't performed when it is not desired."
      ]
    },
    {
      "cell_type": "code",
      "metadata": {
        "id": "Jci0Qk1Rp-FQ"
      },
      "source": [
        "# for file in usable_models: \n",
        "#     print(file) \n",
        "#     data_manipulation(file) # Manipulate Data\n",
        "#     model_training() # Train Models"
      ],
      "execution_count": null,
      "outputs": []
    },
    {
      "cell_type": "markdown",
      "metadata": {
        "id": "gltpo4oLqbSi"
      },
      "source": [
        "# Model Prediction Iteration\n",
        "\n",
        "This is the section used for iterating through all usable models and grabbing the predicted values from their corresponding models for each CARUID and crop type. Commented out so that predictions aren't acquired when it is not desired."
      ]
    },
    {
      "cell_type": "code",
      "metadata": {
        "id": "1w_seVVXQ-Ns"
      },
      "source": [
        "# for file in usable_models:\n",
        "#   print(file)\n",
        "#   grab_predictions(file) # Grab predictions"
      ],
      "execution_count": null,
      "outputs": []
    }
  ]
}