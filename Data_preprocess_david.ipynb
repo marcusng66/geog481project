{
  "nbformat": 4,
  "nbformat_minor": 0,
  "metadata": {
    "colab": {
      "name": "Data_preprocess_david.ipynb",
      "provenance": [],
      "collapsed_sections": []
    },
    "kernelspec": {
      "name": "python3",
      "display_name": "Python 3"
    },
    "language_info": {
      "name": "python"
    }
  },
  "cells": [
    {
      "cell_type": "code",
      "metadata": {
        "id": "Uo3fOMaZE__y"
      },
      "source": [
        "import os\n",
        "import datetime\n",
        "\n",
        "import IPython\n",
        "import IPython.display\n",
        "import matplotlib as mpl\n",
        "import matplotlib.pyplot as plt\n",
        "import numpy as np\n",
        "import pandas as pd\n",
        "import seaborn as sns\n",
        "import tensorflow as tf"
      ],
      "execution_count": 29,
      "outputs": []
    },
    {
      "cell_type": "code",
      "metadata": {
        "id": "pZ5bOyzWFHIL"
      },
      "source": [
        "raw = pd.read_csv(\"/content/drive/MyDrive/Barley_baseline.csv\")"
      ],
      "execution_count": 30,
      "outputs": []
    },
    {
      "cell_type": "code",
      "metadata": {
        "id": "sB8GjrZEG7B6"
      },
      "source": [
        "car = raw['CARUID'].unique()\n",
        "missing_car = pd.DataFrame(columns = [\"CAR\",\"# of missing year\"])\n",
        "available_years = [1987,1988,1989,1990,1991,1992,1993,1994,1995,1996,1997,\n",
        "                   1998,1999,2000,2001,2002,2003,2004,2005,2006,2007,2008,\n",
        "                   2009,2010,2011,2012,2013,2014,2015,2016,2017,2018,2019,2020]"
      ],
      "execution_count": 31,
      "outputs": []
    },
    {
      "cell_type": "code",
      "metadata": {
        "id": "9qZ3jMRVJV7a"
      },
      "source": [
        "for c in car:\n",
        "\n",
        "  ##Select with rows of specific CARUID\n",
        "  sub = raw.loc[raw['CARUID'] == c]\n",
        "\n",
        "  ##Dataframe with all -999 values removed\n",
        "  df = sub[(sub.iloc[:, 1:] != -999).all(axis=1)]\n",
        "\n",
        "  ##Get all unique, available years\n",
        "  yr = df['Year'].unique()\n",
        "  df.pop(\"CARUID\")\n",
        "  \n",
        "  missing_amount = len(available_years) - len(yr)\n",
        "\n",
        "    \n",
        "  missing_car = missing_car.append(pd.DataFrame(data={\"CAR\": c, \"# of missing year\": missing_amount}, index=[0]),\n",
        "                                     ignore_index=False)\n",
        "  df.to_csv(\"/content/drive/MyDrive/CARUID_csv/\" + \"BARLEY_\" + str(c) + \".csv\", index=False)\n",
        "\n",
        "missing_car.to_csv(\"/content/drive/MyDrive/CARUID_csv/\" + \"BArLEY_missing_data.csv\", index=False)\n"
      ],
      "execution_count": 32,
      "outputs": []
    },
    {
      "cell_type": "code",
      "metadata": {
        "colab": {
          "base_uri": "https://localhost:8080/"
        },
        "id": "CRrNpvqfZMy6",
        "outputId": "75ad5585-39df-4819-de68-023f1dd16417"
      },
      "source": [
        "yr"
      ],
      "execution_count": 33,
      "outputs": [
        {
          "output_type": "execute_result",
          "data": {
            "text/plain": [
              "array([1991, 1992, 1993, 1994, 1995, 1996, 1997, 1998, 1999, 2000, 2001,\n",
              "       2002, 2003, 2004, 2005, 2006, 2007, 2008, 2009, 2010, 2011, 2012,\n",
              "       2013, 2014, 2015, 2016, 2017, 2018, 2019, 2020])"
            ]
          },
          "metadata": {
            "tags": []
          },
          "execution_count": 33
        }
      ]
    }
  ]
}