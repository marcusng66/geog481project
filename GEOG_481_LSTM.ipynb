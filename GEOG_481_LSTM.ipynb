{
  "nbformat": 4,
  "nbformat_minor": 0,
  "metadata": {
    "accelerator": "GPU",
    "colab": {
      "name": "GEOG 481 LSTM",
      "provenance": [],
      "collapsed_sections": [
        "5lg8SInh9Jzd"
      ]
    },
    "kernelspec": {
      "display_name": "Python 3",
      "name": "python3"
    }
  },
  "cells": [
    {
      "cell_type": "markdown",
      "metadata": {
        "id": "2Pmxv2ioyCRw"
      },
      "source": [
        "##### Copyright 2019 The TensorFlow Authors."
      ]
    },
    {
      "cell_type": "code",
      "metadata": {
        "cellView": "form",
        "id": "b-2ShX25yNWf"
      },
      "source": [
        "#@title Licensed under the Apache License, Version 2.0 (the \"License\");\n",
        "# you may not use this file except in compliance with the License.\n",
        "# You may obtain a copy of the License at\n",
        "#\n",
        "# https://www.apache.org/licenses/LICENSE-2.0\n",
        "#\n",
        "# Unless required by applicable law or agreed to in writing, software\n",
        "# distributed under the License is distributed on an \"AS IS\" BASIS,\n",
        "# WITHOUT WARRANTIES OR CONDITIONS OF ANY KIND, either express or implied.\n",
        "# See the License for the specific language governing permissions and\n",
        "# limitations under the License."
      ],
      "execution_count": null,
      "outputs": []
    },
    {
      "cell_type": "markdown",
      "metadata": {
        "id": "pa49bUnKyRgF"
      },
      "source": [
        "# Time series forecasting"
      ]
    },
    {
      "cell_type": "markdown",
      "metadata": {
        "id": "11Ilg92myRcw"
      },
      "source": [
        "<table class=\"tfo-notebook-buttons\" align=\"left\">\n",
        "  <td>\n",
        "    <a target=\"_blank\" href=\"https://www.tensorflow.org/tutorials/structured_data/time_series\"><img src=\"https://www.tensorflow.org/images/tf_logo_32px.png\" />View on TensorFlow.org</a>\n",
        "  </td>\n",
        "  <td>\n",
        "    <a target=\"_blank\" href=\"https://colab.research.google.com/github/tensorflow/docs/blob/master/site/en/tutorials/structured_data/time_series.ipynb\"><img src=\"https://www.tensorflow.org/images/colab_logo_32px.png\" />Run in Google Colab</a>\n",
        "  </td>\n",
        "  <td>\n",
        "    <a target=\"_blank\" href=\"https://github.com/tensorflow/docs/blob/master/site/en/tutorials/structured_data/time_series.ipynb\"><img src=\"https://www.tensorflow.org/images/GitHub-Mark-32px.png\" />View source on GitHub</a>\n",
        "  </td>\n",
        "  <td>\n",
        "    <a href=\"https://storage.googleapis.com/tensorflow_docs/docs/site/en/tutorials/structured_data/time_series.ipynb\"><img src=\"https://www.tensorflow.org/images/download_logo_32px.png\" />Download notebook</a>\n",
        "  </td>\n",
        "</table>"
      ]
    },
    {
      "cell_type": "markdown",
      "metadata": {
        "id": "GU8C5qm_4vZb"
      },
      "source": [
        "This tutorial is an introduction to time series forecasting using TensorFlow. It builds a few different styles of models including Convolutional and Recurrent Neural Networks (CNNs and RNNs).\n",
        "\n",
        "This is covered in two main parts, with subsections: \n",
        "\n",
        "* Forecast for a single timestep:\n",
        "  * A single feature.\n",
        "  * All features.\n",
        "* Forecast multiple steps:\n",
        "  * Single-shot: Make the predictions all at once.\n",
        "  * Autoregressive: Make one prediction at a time and feed the output back to the model."
      ]
    },
    {
      "cell_type": "markdown",
      "metadata": {
        "id": "XVhK72Pu1cJL"
      },
      "source": [
        "## Setup"
      ]
    },
    {
      "cell_type": "code",
      "metadata": {
        "id": "7rZnJaGTWQw0"
      },
      "source": [
        "import os\n",
        "import datetime\n",
        "\n",
        "import IPython\n",
        "import IPython.display\n",
        "import matplotlib as mpl\n",
        "import matplotlib.pyplot as plt\n",
        "import numpy as np\n",
        "import pandas as pd\n",
        "import seaborn as sns\n",
        "import tensorflow as tf\n",
        "\n",
        "mpl.rcParams['figure.figsize'] = (8, 6)\n",
        "mpl.rcParams['axes.grid'] = False"
      ],
      "execution_count": 2,
      "outputs": []
    },
    {
      "cell_type": "markdown",
      "metadata": {
        "id": "TokBlnUhWFw9"
      },
      "source": [
        "## The AAFC dataset\n",
        "\n",
        "\n",
        "This dataset contains 14 different features such as air temperature, atmospheric pressure, and humidity. These were collected every 10 minutes, beginning in 2003. For efficiency, you will use only the data collected between 2009 and 2016. This section of the dataset was prepared by François Chollet for his book [Deep Learning with Python](https://www.manning.com/books/deep-learning-with-python)."
      ]
    },
    {
      "cell_type": "markdown",
      "metadata": {
        "id": "R81Wx8WP4c3G"
      },
      "source": [
        "This tutorial will just deal with **hourly predictions**, so start by sub-sampling the data from 10 minute intervals to 1h:"
      ]
    },
    {
      "cell_type": "code",
      "metadata": {
        "id": "TX6uGeeeWIkG",
        "colab": {
          "base_uri": "https://localhost:8080/"
        },
        "outputId": "93e39899-fe32-47a2-e149-40dfd6fa316a"
      },
      "source": [
        "import datetime\n",
        "csv_dir = r'/content/BARLEY_1100.csv'\n",
        "df = pd.read_csv(csv_dir)\n",
        "split_path = csv_dir.split(\"/\")\n",
        "csv_split = split_path[-1].split(\"_\")\n",
        "crop_type, caruid = csv_split[0], csv_split[1].split(\".\")[0]\n",
        "print(crop_type, caruid)\n",
        "for index, row in df.iterrows():\n",
        "    input_DateTime = row['Date Time'] \n",
        "    indv_year = input_DateTime[:4]\n",
        "    indv_weekStart = input_DateTime[5:7]\n",
        "    indv_parsed_DateTime = indv_year + \"-W\" + indv_weekStart\n",
        "    r = datetime.datetime.strptime(indv_parsed_DateTime + '-1', \"%Y-W%W-%w\")\n",
        "    print(r)\n",
        "    df.at[index, 'Date Time'] = r\n",
        "\n",
        "# slice [start:stop:step], starting from index 5 take every 6th record.\n",
        "#df = df[5::6]\n",
        "\n",
        "\n",
        "date_time = pd.to_datetime(df.pop('Date Time'), format='%d.%m.%Y %H:%M:%S')"
      ],
      "execution_count": 3,
      "outputs": [
        {
          "output_type": "stream",
          "text": [
            "BARLEY 1100\n",
            "1987-05-04 00:00:00\n",
            "1987-05-11 00:00:00\n",
            "1987-05-18 00:00:00\n",
            "1987-05-25 00:00:00\n",
            "1987-06-01 00:00:00\n",
            "1987-06-08 00:00:00\n",
            "1987-06-15 00:00:00\n",
            "1987-06-22 00:00:00\n",
            "1987-06-29 00:00:00\n",
            "1987-07-06 00:00:00\n",
            "1987-07-13 00:00:00\n",
            "1987-07-20 00:00:00\n",
            "1987-07-27 00:00:00\n",
            "1987-08-03 00:00:00\n",
            "1987-08-10 00:00:00\n",
            "1987-08-17 00:00:00\n",
            "1987-08-24 00:00:00\n",
            "1987-08-31 00:00:00\n",
            "1987-09-07 00:00:00\n",
            "1988-05-02 00:00:00\n",
            "1988-05-09 00:00:00\n",
            "1988-05-16 00:00:00\n",
            "1988-05-23 00:00:00\n",
            "1988-05-30 00:00:00\n",
            "1988-06-06 00:00:00\n",
            "1988-06-13 00:00:00\n",
            "1988-06-20 00:00:00\n",
            "1988-06-27 00:00:00\n",
            "1988-07-04 00:00:00\n",
            "1988-07-11 00:00:00\n",
            "1988-07-18 00:00:00\n",
            "1988-07-25 00:00:00\n",
            "1988-08-01 00:00:00\n",
            "1988-08-08 00:00:00\n",
            "1988-08-15 00:00:00\n",
            "1988-08-22 00:00:00\n",
            "1988-08-29 00:00:00\n",
            "1988-09-05 00:00:00\n",
            "1989-05-01 00:00:00\n",
            "1989-05-08 00:00:00\n",
            "1989-05-15 00:00:00\n",
            "1989-05-22 00:00:00\n",
            "1989-05-29 00:00:00\n",
            "1989-06-05 00:00:00\n",
            "1989-06-12 00:00:00\n",
            "1989-06-19 00:00:00\n",
            "1989-06-26 00:00:00\n",
            "1989-07-03 00:00:00\n",
            "1989-07-10 00:00:00\n",
            "1989-07-17 00:00:00\n",
            "1989-07-24 00:00:00\n",
            "1989-07-31 00:00:00\n",
            "1989-08-07 00:00:00\n",
            "1989-08-14 00:00:00\n",
            "1989-08-21 00:00:00\n",
            "1989-08-28 00:00:00\n",
            "1989-09-04 00:00:00\n",
            "1990-04-30 00:00:00\n",
            "1990-05-07 00:00:00\n",
            "1990-05-14 00:00:00\n",
            "1990-05-21 00:00:00\n",
            "1990-05-28 00:00:00\n",
            "1990-06-04 00:00:00\n",
            "1990-06-11 00:00:00\n",
            "1990-06-18 00:00:00\n",
            "1990-06-25 00:00:00\n",
            "1990-07-02 00:00:00\n",
            "1990-07-09 00:00:00\n",
            "1990-07-16 00:00:00\n",
            "1990-07-23 00:00:00\n",
            "1990-07-30 00:00:00\n",
            "1990-08-06 00:00:00\n",
            "1990-08-13 00:00:00\n",
            "1990-08-20 00:00:00\n",
            "1990-08-27 00:00:00\n",
            "1990-09-03 00:00:00\n",
            "1991-05-06 00:00:00\n",
            "1991-05-13 00:00:00\n",
            "1991-05-20 00:00:00\n",
            "1991-05-27 00:00:00\n",
            "1991-06-03 00:00:00\n",
            "1991-06-10 00:00:00\n",
            "1991-06-17 00:00:00\n",
            "1991-06-24 00:00:00\n",
            "1991-07-01 00:00:00\n",
            "1991-07-08 00:00:00\n",
            "1991-07-15 00:00:00\n",
            "1991-07-22 00:00:00\n",
            "1991-07-29 00:00:00\n",
            "1991-08-05 00:00:00\n",
            "1991-08-12 00:00:00\n",
            "1991-08-19 00:00:00\n",
            "1991-08-26 00:00:00\n",
            "1991-09-02 00:00:00\n",
            "1991-09-09 00:00:00\n",
            "1992-05-04 00:00:00\n",
            "1992-05-11 00:00:00\n",
            "1992-05-18 00:00:00\n",
            "1992-05-25 00:00:00\n",
            "1992-06-01 00:00:00\n",
            "1992-06-08 00:00:00\n",
            "1992-06-15 00:00:00\n",
            "1992-06-22 00:00:00\n",
            "1992-06-29 00:00:00\n",
            "1992-07-06 00:00:00\n",
            "1992-07-13 00:00:00\n",
            "1992-07-20 00:00:00\n",
            "1992-07-27 00:00:00\n",
            "1992-08-03 00:00:00\n",
            "1992-08-10 00:00:00\n",
            "1992-08-17 00:00:00\n",
            "1992-08-24 00:00:00\n",
            "1992-08-31 00:00:00\n",
            "1992-09-07 00:00:00\n",
            "1993-05-03 00:00:00\n",
            "1993-05-10 00:00:00\n",
            "1993-05-17 00:00:00\n",
            "1993-05-24 00:00:00\n",
            "1993-05-31 00:00:00\n",
            "1993-06-07 00:00:00\n",
            "1993-06-14 00:00:00\n",
            "1993-06-21 00:00:00\n",
            "1993-06-28 00:00:00\n",
            "1993-07-05 00:00:00\n",
            "1993-07-12 00:00:00\n",
            "1993-07-19 00:00:00\n",
            "1993-07-26 00:00:00\n",
            "1993-08-02 00:00:00\n",
            "1993-08-09 00:00:00\n",
            "1993-08-16 00:00:00\n",
            "1993-08-23 00:00:00\n",
            "1993-08-30 00:00:00\n",
            "1993-09-06 00:00:00\n",
            "1994-05-02 00:00:00\n",
            "1994-05-09 00:00:00\n",
            "1994-05-16 00:00:00\n",
            "1994-05-23 00:00:00\n",
            "1994-05-30 00:00:00\n",
            "1994-06-06 00:00:00\n",
            "1994-06-13 00:00:00\n",
            "1994-06-20 00:00:00\n",
            "1994-06-27 00:00:00\n",
            "1994-07-04 00:00:00\n",
            "1994-07-11 00:00:00\n",
            "1994-07-18 00:00:00\n",
            "1994-07-25 00:00:00\n",
            "1994-08-01 00:00:00\n",
            "1994-08-08 00:00:00\n",
            "1994-08-15 00:00:00\n",
            "1994-08-22 00:00:00\n",
            "1994-08-29 00:00:00\n",
            "1994-09-05 00:00:00\n",
            "1995-05-01 00:00:00\n",
            "1995-05-08 00:00:00\n",
            "1995-05-15 00:00:00\n",
            "1995-05-22 00:00:00\n",
            "1995-05-29 00:00:00\n",
            "1995-06-05 00:00:00\n",
            "1995-06-12 00:00:00\n",
            "1995-06-19 00:00:00\n",
            "1995-06-26 00:00:00\n",
            "1995-07-03 00:00:00\n",
            "1995-07-10 00:00:00\n",
            "1995-07-17 00:00:00\n",
            "1995-07-24 00:00:00\n",
            "1995-07-31 00:00:00\n",
            "1995-08-07 00:00:00\n",
            "1995-08-14 00:00:00\n",
            "1995-08-21 00:00:00\n",
            "1995-08-28 00:00:00\n",
            "1995-09-04 00:00:00\n",
            "1996-04-29 00:00:00\n",
            "1996-05-06 00:00:00\n",
            "1996-05-13 00:00:00\n",
            "1996-05-20 00:00:00\n",
            "1996-05-27 00:00:00\n",
            "1996-06-03 00:00:00\n",
            "1996-06-10 00:00:00\n",
            "1996-06-17 00:00:00\n",
            "1996-06-24 00:00:00\n",
            "1996-07-01 00:00:00\n",
            "1996-07-08 00:00:00\n",
            "1996-07-15 00:00:00\n",
            "1996-07-22 00:00:00\n",
            "1996-07-29 00:00:00\n",
            "1996-08-05 00:00:00\n",
            "1996-08-12 00:00:00\n",
            "1996-08-19 00:00:00\n",
            "1996-08-26 00:00:00\n",
            "1996-09-02 00:00:00\n",
            "1997-05-05 00:00:00\n",
            "1997-05-12 00:00:00\n",
            "1997-05-19 00:00:00\n",
            "1997-05-26 00:00:00\n",
            "1997-06-02 00:00:00\n",
            "1997-06-09 00:00:00\n",
            "1997-06-16 00:00:00\n",
            "1997-06-23 00:00:00\n",
            "1997-06-30 00:00:00\n",
            "1997-07-07 00:00:00\n",
            "1997-07-14 00:00:00\n",
            "1997-07-21 00:00:00\n",
            "1997-07-28 00:00:00\n",
            "1997-08-04 00:00:00\n",
            "1997-08-11 00:00:00\n",
            "1997-08-18 00:00:00\n",
            "1997-08-25 00:00:00\n",
            "1997-09-01 00:00:00\n",
            "1997-09-08 00:00:00\n",
            "1998-05-04 00:00:00\n",
            "1998-05-11 00:00:00\n",
            "1998-05-18 00:00:00\n",
            "1998-05-25 00:00:00\n",
            "1998-06-01 00:00:00\n",
            "1998-06-08 00:00:00\n",
            "1998-06-15 00:00:00\n",
            "1998-06-22 00:00:00\n",
            "1998-06-29 00:00:00\n",
            "1998-07-06 00:00:00\n",
            "1998-07-13 00:00:00\n",
            "1998-07-20 00:00:00\n",
            "1998-07-27 00:00:00\n",
            "1998-08-03 00:00:00\n",
            "1998-08-10 00:00:00\n",
            "1998-08-17 00:00:00\n",
            "1998-08-24 00:00:00\n",
            "1998-08-31 00:00:00\n",
            "1998-09-07 00:00:00\n",
            "1999-05-03 00:00:00\n",
            "1999-05-10 00:00:00\n",
            "1999-05-17 00:00:00\n",
            "1999-05-24 00:00:00\n",
            "1999-05-31 00:00:00\n",
            "1999-06-07 00:00:00\n",
            "1999-06-14 00:00:00\n",
            "1999-06-21 00:00:00\n",
            "1999-06-28 00:00:00\n",
            "1999-07-05 00:00:00\n",
            "1999-07-12 00:00:00\n",
            "1999-07-19 00:00:00\n",
            "1999-07-26 00:00:00\n",
            "1999-08-02 00:00:00\n",
            "1999-08-09 00:00:00\n",
            "1999-08-16 00:00:00\n",
            "1999-08-23 00:00:00\n",
            "1999-08-30 00:00:00\n",
            "1999-09-06 00:00:00\n",
            "2000-05-01 00:00:00\n",
            "2000-05-08 00:00:00\n",
            "2000-05-15 00:00:00\n",
            "2000-05-22 00:00:00\n",
            "2000-05-29 00:00:00\n",
            "2000-06-05 00:00:00\n",
            "2000-06-12 00:00:00\n",
            "2000-06-19 00:00:00\n",
            "2000-06-26 00:00:00\n",
            "2000-07-03 00:00:00\n",
            "2000-07-10 00:00:00\n",
            "2000-07-17 00:00:00\n",
            "2000-07-24 00:00:00\n",
            "2000-07-31 00:00:00\n",
            "2000-08-07 00:00:00\n",
            "2000-08-14 00:00:00\n",
            "2000-08-21 00:00:00\n",
            "2000-08-28 00:00:00\n",
            "2000-09-04 00:00:00\n",
            "2001-04-30 00:00:00\n",
            "2001-05-07 00:00:00\n",
            "2001-05-14 00:00:00\n",
            "2001-05-21 00:00:00\n",
            "2001-05-28 00:00:00\n",
            "2001-06-04 00:00:00\n",
            "2001-06-11 00:00:00\n",
            "2001-06-18 00:00:00\n",
            "2001-06-25 00:00:00\n",
            "2001-07-02 00:00:00\n",
            "2001-07-09 00:00:00\n",
            "2001-07-16 00:00:00\n",
            "2001-07-23 00:00:00\n",
            "2001-07-30 00:00:00\n",
            "2001-08-06 00:00:00\n",
            "2001-08-13 00:00:00\n",
            "2001-08-20 00:00:00\n",
            "2001-08-27 00:00:00\n",
            "2001-09-03 00:00:00\n",
            "2002-05-06 00:00:00\n",
            "2002-05-13 00:00:00\n",
            "2002-05-20 00:00:00\n",
            "2002-05-27 00:00:00\n",
            "2002-06-03 00:00:00\n",
            "2002-06-10 00:00:00\n",
            "2002-06-17 00:00:00\n",
            "2002-06-24 00:00:00\n",
            "2002-07-01 00:00:00\n",
            "2002-07-08 00:00:00\n",
            "2002-07-15 00:00:00\n",
            "2002-07-22 00:00:00\n",
            "2002-07-29 00:00:00\n",
            "2002-08-05 00:00:00\n",
            "2002-08-12 00:00:00\n",
            "2002-08-19 00:00:00\n",
            "2002-08-26 00:00:00\n",
            "2002-09-02 00:00:00\n",
            "2002-09-09 00:00:00\n",
            "2003-05-05 00:00:00\n",
            "2003-05-12 00:00:00\n",
            "2003-05-19 00:00:00\n",
            "2003-05-26 00:00:00\n",
            "2003-06-02 00:00:00\n",
            "2003-06-09 00:00:00\n",
            "2003-06-16 00:00:00\n",
            "2003-06-23 00:00:00\n",
            "2003-06-30 00:00:00\n",
            "2003-07-07 00:00:00\n",
            "2003-07-14 00:00:00\n",
            "2003-07-21 00:00:00\n",
            "2003-07-28 00:00:00\n",
            "2003-08-04 00:00:00\n",
            "2003-08-11 00:00:00\n",
            "2003-08-18 00:00:00\n",
            "2003-08-25 00:00:00\n",
            "2003-09-01 00:00:00\n",
            "2003-09-08 00:00:00\n",
            "2004-05-03 00:00:00\n",
            "2004-05-10 00:00:00\n",
            "2004-05-17 00:00:00\n",
            "2004-05-24 00:00:00\n",
            "2004-05-31 00:00:00\n",
            "2004-06-07 00:00:00\n",
            "2004-06-14 00:00:00\n",
            "2004-06-21 00:00:00\n",
            "2004-06-28 00:00:00\n",
            "2004-07-05 00:00:00\n",
            "2004-07-12 00:00:00\n",
            "2004-07-19 00:00:00\n",
            "2004-07-26 00:00:00\n",
            "2004-08-02 00:00:00\n",
            "2004-08-09 00:00:00\n",
            "2004-08-16 00:00:00\n",
            "2004-08-23 00:00:00\n",
            "2004-08-30 00:00:00\n",
            "2004-09-06 00:00:00\n",
            "2005-05-02 00:00:00\n",
            "2005-05-09 00:00:00\n",
            "2005-05-16 00:00:00\n",
            "2005-05-23 00:00:00\n",
            "2005-05-30 00:00:00\n",
            "2005-06-06 00:00:00\n",
            "2005-06-13 00:00:00\n",
            "2005-06-20 00:00:00\n",
            "2005-06-27 00:00:00\n",
            "2005-07-04 00:00:00\n",
            "2005-07-11 00:00:00\n",
            "2005-07-18 00:00:00\n",
            "2005-07-25 00:00:00\n",
            "2005-08-01 00:00:00\n",
            "2005-08-08 00:00:00\n",
            "2005-08-15 00:00:00\n",
            "2005-08-22 00:00:00\n",
            "2005-08-29 00:00:00\n",
            "2005-09-05 00:00:00\n",
            "2006-05-01 00:00:00\n",
            "2006-05-08 00:00:00\n",
            "2006-05-15 00:00:00\n",
            "2006-05-22 00:00:00\n",
            "2006-05-29 00:00:00\n",
            "2006-06-05 00:00:00\n",
            "2006-06-12 00:00:00\n",
            "2006-06-19 00:00:00\n",
            "2006-06-26 00:00:00\n",
            "2006-07-03 00:00:00\n",
            "2006-07-10 00:00:00\n",
            "2006-07-17 00:00:00\n",
            "2006-07-24 00:00:00\n",
            "2006-07-31 00:00:00\n",
            "2006-08-07 00:00:00\n",
            "2006-08-14 00:00:00\n",
            "2006-08-21 00:00:00\n",
            "2006-08-28 00:00:00\n",
            "2006-09-04 00:00:00\n",
            "2007-04-30 00:00:00\n",
            "2007-05-07 00:00:00\n",
            "2007-05-14 00:00:00\n",
            "2007-05-21 00:00:00\n",
            "2007-05-28 00:00:00\n",
            "2007-06-04 00:00:00\n",
            "2007-06-11 00:00:00\n",
            "2007-06-18 00:00:00\n",
            "2007-06-25 00:00:00\n",
            "2007-07-02 00:00:00\n",
            "2007-07-09 00:00:00\n",
            "2007-07-16 00:00:00\n",
            "2007-07-23 00:00:00\n",
            "2007-07-30 00:00:00\n",
            "2007-08-06 00:00:00\n",
            "2007-08-13 00:00:00\n",
            "2007-08-20 00:00:00\n",
            "2007-08-27 00:00:00\n",
            "2007-09-03 00:00:00\n",
            "2008-05-05 00:00:00\n",
            "2008-05-12 00:00:00\n",
            "2008-05-19 00:00:00\n",
            "2008-05-26 00:00:00\n",
            "2008-06-02 00:00:00\n",
            "2008-06-09 00:00:00\n",
            "2008-06-16 00:00:00\n",
            "2008-06-23 00:00:00\n",
            "2008-06-30 00:00:00\n",
            "2008-07-07 00:00:00\n",
            "2008-07-14 00:00:00\n",
            "2008-07-21 00:00:00\n",
            "2008-07-28 00:00:00\n",
            "2008-08-04 00:00:00\n",
            "2008-08-11 00:00:00\n",
            "2008-08-18 00:00:00\n",
            "2008-08-25 00:00:00\n",
            "2008-09-01 00:00:00\n",
            "2008-09-08 00:00:00\n",
            "2009-05-04 00:00:00\n",
            "2009-05-11 00:00:00\n",
            "2009-05-18 00:00:00\n",
            "2009-05-25 00:00:00\n",
            "2009-06-01 00:00:00\n",
            "2009-06-08 00:00:00\n",
            "2009-06-15 00:00:00\n",
            "2009-06-22 00:00:00\n",
            "2009-06-29 00:00:00\n",
            "2009-07-06 00:00:00\n",
            "2009-07-13 00:00:00\n",
            "2009-07-20 00:00:00\n",
            "2009-07-27 00:00:00\n",
            "2009-08-03 00:00:00\n",
            "2009-08-10 00:00:00\n",
            "2009-08-17 00:00:00\n",
            "2009-08-24 00:00:00\n",
            "2009-08-31 00:00:00\n",
            "2009-09-07 00:00:00\n",
            "2010-05-03 00:00:00\n",
            "2010-05-10 00:00:00\n",
            "2010-05-17 00:00:00\n",
            "2010-05-24 00:00:00\n",
            "2010-05-31 00:00:00\n",
            "2010-06-07 00:00:00\n",
            "2010-06-14 00:00:00\n",
            "2010-06-21 00:00:00\n",
            "2010-06-28 00:00:00\n",
            "2010-07-05 00:00:00\n",
            "2010-07-12 00:00:00\n",
            "2010-07-19 00:00:00\n",
            "2010-07-26 00:00:00\n",
            "2010-08-02 00:00:00\n",
            "2010-08-09 00:00:00\n",
            "2010-08-16 00:00:00\n",
            "2010-08-23 00:00:00\n",
            "2010-08-30 00:00:00\n",
            "2010-09-06 00:00:00\n",
            "2011-05-02 00:00:00\n",
            "2011-05-09 00:00:00\n",
            "2011-05-16 00:00:00\n",
            "2011-05-23 00:00:00\n",
            "2011-05-30 00:00:00\n",
            "2011-06-06 00:00:00\n",
            "2011-06-13 00:00:00\n",
            "2011-06-20 00:00:00\n",
            "2011-06-27 00:00:00\n",
            "2011-07-04 00:00:00\n",
            "2011-07-11 00:00:00\n",
            "2011-07-18 00:00:00\n",
            "2011-07-25 00:00:00\n",
            "2011-08-01 00:00:00\n",
            "2011-08-08 00:00:00\n",
            "2011-08-15 00:00:00\n",
            "2011-08-22 00:00:00\n",
            "2011-08-29 00:00:00\n",
            "2011-09-05 00:00:00\n",
            "2012-04-30 00:00:00\n",
            "2012-05-07 00:00:00\n",
            "2012-05-14 00:00:00\n",
            "2012-05-21 00:00:00\n",
            "2012-05-28 00:00:00\n",
            "2012-06-04 00:00:00\n",
            "2012-06-11 00:00:00\n",
            "2012-06-18 00:00:00\n",
            "2012-06-25 00:00:00\n",
            "2012-07-02 00:00:00\n",
            "2012-07-09 00:00:00\n",
            "2012-07-16 00:00:00\n",
            "2012-07-23 00:00:00\n",
            "2012-07-30 00:00:00\n",
            "2012-08-06 00:00:00\n",
            "2012-08-13 00:00:00\n",
            "2012-08-20 00:00:00\n",
            "2012-08-27 00:00:00\n",
            "2012-09-03 00:00:00\n",
            "2013-05-06 00:00:00\n",
            "2013-05-13 00:00:00\n",
            "2013-05-20 00:00:00\n",
            "2013-05-27 00:00:00\n",
            "2013-06-03 00:00:00\n",
            "2013-06-10 00:00:00\n",
            "2013-06-17 00:00:00\n",
            "2013-06-24 00:00:00\n",
            "2013-07-01 00:00:00\n",
            "2013-07-08 00:00:00\n",
            "2013-07-15 00:00:00\n",
            "2013-07-22 00:00:00\n",
            "2013-07-29 00:00:00\n",
            "2013-08-05 00:00:00\n",
            "2013-08-12 00:00:00\n",
            "2013-08-19 00:00:00\n",
            "2013-08-26 00:00:00\n",
            "2013-09-02 00:00:00\n",
            "2013-09-09 00:00:00\n",
            "2014-05-05 00:00:00\n",
            "2014-05-12 00:00:00\n",
            "2014-05-19 00:00:00\n",
            "2014-05-26 00:00:00\n",
            "2014-06-02 00:00:00\n",
            "2014-06-09 00:00:00\n",
            "2014-06-16 00:00:00\n",
            "2014-06-23 00:00:00\n",
            "2014-06-30 00:00:00\n",
            "2014-07-07 00:00:00\n",
            "2014-07-14 00:00:00\n",
            "2014-07-21 00:00:00\n",
            "2014-07-28 00:00:00\n",
            "2014-08-04 00:00:00\n",
            "2014-08-11 00:00:00\n",
            "2014-08-18 00:00:00\n",
            "2014-08-25 00:00:00\n",
            "2014-09-01 00:00:00\n",
            "2014-09-08 00:00:00\n",
            "2015-05-04 00:00:00\n",
            "2015-05-11 00:00:00\n",
            "2015-05-18 00:00:00\n",
            "2015-05-25 00:00:00\n",
            "2015-06-01 00:00:00\n",
            "2015-06-08 00:00:00\n",
            "2015-06-15 00:00:00\n",
            "2015-06-22 00:00:00\n",
            "2015-06-29 00:00:00\n",
            "2015-07-06 00:00:00\n",
            "2015-07-13 00:00:00\n",
            "2015-07-20 00:00:00\n",
            "2015-07-27 00:00:00\n",
            "2015-08-03 00:00:00\n",
            "2015-08-10 00:00:00\n",
            "2015-08-17 00:00:00\n",
            "2015-08-24 00:00:00\n",
            "2015-08-31 00:00:00\n",
            "2015-09-07 00:00:00\n",
            "2016-05-02 00:00:00\n",
            "2016-05-09 00:00:00\n",
            "2016-05-16 00:00:00\n",
            "2016-05-23 00:00:00\n",
            "2016-05-30 00:00:00\n",
            "2016-06-06 00:00:00\n",
            "2016-06-13 00:00:00\n",
            "2016-06-20 00:00:00\n",
            "2016-06-27 00:00:00\n",
            "2016-07-04 00:00:00\n",
            "2016-07-11 00:00:00\n",
            "2016-07-18 00:00:00\n",
            "2016-07-25 00:00:00\n",
            "2016-08-01 00:00:00\n",
            "2016-08-08 00:00:00\n",
            "2016-08-15 00:00:00\n",
            "2016-08-22 00:00:00\n",
            "2016-08-29 00:00:00\n",
            "2016-09-05 00:00:00\n",
            "2017-05-01 00:00:00\n",
            "2017-05-08 00:00:00\n",
            "2017-05-15 00:00:00\n",
            "2017-05-22 00:00:00\n",
            "2017-05-29 00:00:00\n",
            "2017-06-05 00:00:00\n",
            "2017-06-12 00:00:00\n",
            "2017-06-19 00:00:00\n",
            "2017-06-26 00:00:00\n",
            "2017-07-03 00:00:00\n",
            "2017-07-10 00:00:00\n",
            "2017-07-17 00:00:00\n",
            "2017-07-24 00:00:00\n",
            "2017-07-31 00:00:00\n",
            "2017-08-07 00:00:00\n",
            "2017-08-14 00:00:00\n",
            "2017-08-21 00:00:00\n",
            "2017-08-28 00:00:00\n",
            "2017-09-04 00:00:00\n",
            "2018-04-30 00:00:00\n",
            "2018-05-07 00:00:00\n",
            "2018-05-14 00:00:00\n",
            "2018-05-21 00:00:00\n",
            "2018-05-28 00:00:00\n",
            "2018-06-04 00:00:00\n",
            "2018-06-11 00:00:00\n",
            "2018-06-18 00:00:00\n",
            "2018-06-25 00:00:00\n",
            "2018-07-02 00:00:00\n",
            "2018-07-09 00:00:00\n",
            "2018-07-16 00:00:00\n",
            "2018-07-23 00:00:00\n",
            "2018-07-30 00:00:00\n",
            "2018-08-06 00:00:00\n",
            "2018-08-13 00:00:00\n",
            "2018-08-20 00:00:00\n",
            "2018-08-27 00:00:00\n",
            "2018-09-03 00:00:00\n",
            "2019-05-06 00:00:00\n",
            "2019-05-13 00:00:00\n",
            "2019-05-20 00:00:00\n",
            "2019-05-27 00:00:00\n",
            "2019-06-03 00:00:00\n",
            "2019-06-10 00:00:00\n",
            "2019-06-17 00:00:00\n",
            "2019-06-24 00:00:00\n",
            "2019-07-01 00:00:00\n",
            "2019-07-08 00:00:00\n",
            "2019-07-15 00:00:00\n",
            "2019-07-22 00:00:00\n",
            "2019-07-29 00:00:00\n",
            "2019-08-05 00:00:00\n",
            "2019-08-12 00:00:00\n",
            "2019-08-19 00:00:00\n",
            "2019-08-26 00:00:00\n",
            "2019-09-02 00:00:00\n",
            "2019-09-09 00:00:00\n",
            "2020-05-04 00:00:00\n",
            "2020-05-11 00:00:00\n",
            "2020-05-18 00:00:00\n",
            "2020-05-25 00:00:00\n",
            "2020-06-01 00:00:00\n",
            "2020-06-08 00:00:00\n",
            "2020-06-15 00:00:00\n",
            "2020-06-22 00:00:00\n",
            "2020-06-29 00:00:00\n",
            "2020-07-06 00:00:00\n",
            "2020-07-13 00:00:00\n",
            "2020-07-20 00:00:00\n",
            "2020-07-27 00:00:00\n",
            "2020-08-03 00:00:00\n",
            "2020-08-10 00:00:00\n",
            "2020-08-17 00:00:00\n",
            "2020-08-24 00:00:00\n",
            "2020-08-31 00:00:00\n",
            "2020-09-07 00:00:00\n"
          ],
          "name": "stdout"
        }
      ]
    },
    {
      "cell_type": "markdown",
      "metadata": {
        "id": "VdbOWXiTWM2T"
      },
      "source": [
        "Let's take a glance at the data. Here are the first few rows:"
      ]
    },
    {
      "cell_type": "code",
      "metadata": {
        "id": "ojHE-iCCWIhz",
        "colab": {
          "base_uri": "https://localhost:8080/",
          "height": 204
        },
        "outputId": "93a23702-8e43-4a16-c3ad-0ed60af3a6e7"
      },
      "source": [
        "df.head()"
      ],
      "execution_count": 4,
      "outputs": [
        {
          "output_type": "execute_result",
          "data": {
            "text/html": [
              "<div>\n",
              "<style scoped>\n",
              "    .dataframe tbody tr th:only-of-type {\n",
              "        vertical-align: middle;\n",
              "    }\n",
              "\n",
              "    .dataframe tbody tr th {\n",
              "        vertical-align: top;\n",
              "    }\n",
              "\n",
              "    .dataframe thead th {\n",
              "        text-align: right;\n",
              "    }\n",
              "</style>\n",
              "<table border=\"1\" class=\"dataframe\">\n",
              "  <thead>\n",
              "    <tr style=\"text-align: right;\">\n",
              "      <th></th>\n",
              "      <th>SumPcpn</th>\n",
              "      <th>SumEGDD_C</th>\n",
              "      <th>SumHeatD</th>\n",
              "      <th>SumFrostD</th>\n",
              "      <th>AvgSI</th>\n",
              "      <th>AvgPrcnAWHC</th>\n",
              "      <th>NDVI</th>\n",
              "      <th>Yield</th>\n",
              "      <th>Area</th>\n",
              "    </tr>\n",
              "  </thead>\n",
              "  <tbody>\n",
              "    <tr>\n",
              "      <th>0</th>\n",
              "      <td>16.405556</td>\n",
              "      <td>20.011111</td>\n",
              "      <td>0.0</td>\n",
              "      <td>3.000000</td>\n",
              "      <td>0.563175</td>\n",
              "      <td>0.899921</td>\n",
              "      <td>0.302127</td>\n",
              "      <td>59.1</td>\n",
              "      <td>66000</td>\n",
              "    </tr>\n",
              "    <tr>\n",
              "      <th>1</th>\n",
              "      <td>10.544444</td>\n",
              "      <td>28.483333</td>\n",
              "      <td>0.0</td>\n",
              "      <td>1.833333</td>\n",
              "      <td>0.563651</td>\n",
              "      <td>0.891667</td>\n",
              "      <td>0.338232</td>\n",
              "      <td>59.1</td>\n",
              "      <td>66000</td>\n",
              "    </tr>\n",
              "    <tr>\n",
              "      <th>2</th>\n",
              "      <td>10.438889</td>\n",
              "      <td>34.088889</td>\n",
              "      <td>0.0</td>\n",
              "      <td>1.444444</td>\n",
              "      <td>0.588333</td>\n",
              "      <td>0.863810</td>\n",
              "      <td>0.370780</td>\n",
              "      <td>59.1</td>\n",
              "      <td>66000</td>\n",
              "    </tr>\n",
              "    <tr>\n",
              "      <th>3</th>\n",
              "      <td>13.227778</td>\n",
              "      <td>38.197222</td>\n",
              "      <td>0.0</td>\n",
              "      <td>1.500000</td>\n",
              "      <td>0.603889</td>\n",
              "      <td>0.838889</td>\n",
              "      <td>0.407115</td>\n",
              "      <td>59.1</td>\n",
              "      <td>66000</td>\n",
              "    </tr>\n",
              "    <tr>\n",
              "      <th>4</th>\n",
              "      <td>27.983333</td>\n",
              "      <td>48.702778</td>\n",
              "      <td>0.0</td>\n",
              "      <td>0.555556</td>\n",
              "      <td>0.569921</td>\n",
              "      <td>0.860476</td>\n",
              "      <td>0.442306</td>\n",
              "      <td>59.1</td>\n",
              "      <td>66000</td>\n",
              "    </tr>\n",
              "  </tbody>\n",
              "</table>\n",
              "</div>"
            ],
            "text/plain": [
              "     SumPcpn  SumEGDD_C  SumHeatD  ...      NDVI  Yield   Area\n",
              "0  16.405556  20.011111       0.0  ...  0.302127   59.1  66000\n",
              "1  10.544444  28.483333       0.0  ...  0.338232   59.1  66000\n",
              "2  10.438889  34.088889       0.0  ...  0.370780   59.1  66000\n",
              "3  13.227778  38.197222       0.0  ...  0.407115   59.1  66000\n",
              "4  27.983333  48.702778       0.0  ...  0.442306   59.1  66000\n",
              "\n",
              "[5 rows x 9 columns]"
            ]
          },
          "metadata": {
            "tags": []
          },
          "execution_count": 4
        }
      ]
    },
    {
      "cell_type": "markdown",
      "metadata": {
        "id": "WRzj1inMfgcO"
      },
      "source": [
        "Here is the evolution of a few features over time. "
      ]
    },
    {
      "cell_type": "code",
      "metadata": {
        "id": "Vg5XIc5tfNlG",
        "colab": {
          "base_uri": "https://localhost:8080/",
          "height": 717
        },
        "outputId": "5fc9a42a-a86b-4104-c1c7-ccc9ed28a2cf"
      },
      "source": [
        "plot_cols = ['SumPcpn','SumEGDD_C','SumHeatD','SumFrostD', 'NDVI', 'Yield']\n",
        "plot_features = df[plot_cols]\n",
        "plot_features.index = date_time\n",
        "_ = plot_features.plot(subplots=True)\n",
        "\n",
        "plot_features = df[plot_cols][:480]\n",
        "plot_features.index = date_time[:480]\n",
        "_ = plot_features.plot(subplots=True)"
      ],
      "execution_count": 5,
      "outputs": [
        {
          "output_type": "display_data",
          "data": {
            "image/png": "[encoded data removed]",
            "text/plain": [
              "<Figure size 576x432 with 6 Axes>"
            ]
          },
          "metadata": {
            "tags": [],
            "needs_background": "light"
          }
        },
        {
          "output_type": "display_data",
          "data": {
            "image/png": "[encoded data removed]",
            "text/plain": [
              "<Figure size 576x432 with 6 Axes>"
            ]
          },
          "metadata": {
            "tags": [],
            "needs_background": "light"
          }
        }
      ]
    },
    {
      "cell_type": "markdown",
      "metadata": {
        "id": "wXWLG0_WBhZS"
      },
      "source": [
        "### Inspect and cleanup"
      ]
    },
    {
      "cell_type": "markdown",
      "metadata": {
        "id": "yhmZXJew6GlS"
      },
      "source": [
        "Next look at the statistics of the dataset:"
      ]
    },
    {
      "cell_type": "code",
      "metadata": {
        "id": "Rj5tcmliggNx",
        "colab": {
          "base_uri": "https://localhost:8080/",
          "height": 328
        },
        "outputId": "7af40aa5-7b95-439d-c1c1-c33ab094d9f5"
      },
      "source": [
        "df.describe().transpose()"
      ],
      "execution_count": 6,
      "outputs": [
        {
          "output_type": "execute_result",
          "data": {
            "text/html": [
              "<div>\n",
              "<style scoped>\n",
              "    .dataframe tbody tr th:only-of-type {\n",
              "        vertical-align: middle;\n",
              "    }\n",
              "\n",
              "    .dataframe tbody tr th {\n",
              "        vertical-align: top;\n",
              "    }\n",
              "\n",
              "    .dataframe thead th {\n",
              "        text-align: right;\n",
              "    }\n",
              "</style>\n",
              "<table border=\"1\" class=\"dataframe\">\n",
              "  <thead>\n",
              "    <tr style=\"text-align: right;\">\n",
              "      <th></th>\n",
              "      <th>count</th>\n",
              "      <th>mean</th>\n",
              "      <th>std</th>\n",
              "      <th>min</th>\n",
              "      <th>25%</th>\n",
              "      <th>50%</th>\n",
              "      <th>75%</th>\n",
              "      <th>max</th>\n",
              "    </tr>\n",
              "  </thead>\n",
              "  <tbody>\n",
              "    <tr>\n",
              "      <th>SumPcpn</th>\n",
              "      <td>646.0</td>\n",
              "      <td>18.704119</td>\n",
              "      <td>9.530921</td>\n",
              "      <td>1.888889</td>\n",
              "      <td>11.766667</td>\n",
              "      <td>17.030556</td>\n",
              "      <td>24.068056</td>\n",
              "      <td>60.733333</td>\n",
              "    </tr>\n",
              "    <tr>\n",
              "      <th>SumEGDD_C</th>\n",
              "      <td>646.0</td>\n",
              "      <td>74.463072</td>\n",
              "      <td>27.265150</td>\n",
              "      <td>6.052778</td>\n",
              "      <td>54.965972</td>\n",
              "      <td>82.261111</td>\n",
              "      <td>95.371528</td>\n",
              "      <td>125.036111</td>\n",
              "    </tr>\n",
              "    <tr>\n",
              "      <th>SumHeatD</th>\n",
              "      <td>646.0</td>\n",
              "      <td>0.071121</td>\n",
              "      <td>0.172775</td>\n",
              "      <td>0.000000</td>\n",
              "      <td>0.000000</td>\n",
              "      <td>0.000000</td>\n",
              "      <td>0.055556</td>\n",
              "      <td>1.388889</td>\n",
              "    </tr>\n",
              "    <tr>\n",
              "      <th>SumFrostD</th>\n",
              "      <td>646.0</td>\n",
              "      <td>0.348383</td>\n",
              "      <td>0.801686</td>\n",
              "      <td>0.000000</td>\n",
              "      <td>0.000000</td>\n",
              "      <td>0.000000</td>\n",
              "      <td>0.166667</td>\n",
              "      <td>4.833333</td>\n",
              "    </tr>\n",
              "    <tr>\n",
              "      <th>AvgSI</th>\n",
              "      <td>646.0</td>\n",
              "      <td>0.405325</td>\n",
              "      <td>0.182616</td>\n",
              "      <td>-0.026032</td>\n",
              "      <td>0.266389</td>\n",
              "      <td>0.436389</td>\n",
              "      <td>0.566468</td>\n",
              "      <td>0.828571</td>\n",
              "    </tr>\n",
              "    <tr>\n",
              "      <th>AvgPrcnAWHC</th>\n",
              "      <td>646.0</td>\n",
              "      <td>0.609536</td>\n",
              "      <td>0.254599</td>\n",
              "      <td>0.040476</td>\n",
              "      <td>0.396806</td>\n",
              "      <td>0.685437</td>\n",
              "      <td>0.846369</td>\n",
              "      <td>0.924365</td>\n",
              "    </tr>\n",
              "    <tr>\n",
              "      <th>NDVI</th>\n",
              "      <td>646.0</td>\n",
              "      <td>0.480339</td>\n",
              "      <td>0.103927</td>\n",
              "      <td>0.049632</td>\n",
              "      <td>0.430152</td>\n",
              "      <td>0.511455</td>\n",
              "      <td>0.555080</td>\n",
              "      <td>0.640233</td>\n",
              "    </tr>\n",
              "    <tr>\n",
              "      <th>Yield</th>\n",
              "      <td>646.0</td>\n",
              "      <td>58.852941</td>\n",
              "      <td>6.888315</td>\n",
              "      <td>47.000000</td>\n",
              "      <td>53.000000</td>\n",
              "      <td>58.700000</td>\n",
              "      <td>65.000000</td>\n",
              "      <td>75.000000</td>\n",
              "    </tr>\n",
              "    <tr>\n",
              "      <th>Area</th>\n",
              "      <td>646.0</td>\n",
              "      <td>75047.058824</td>\n",
              "      <td>14526.457520</td>\n",
              "      <td>47600.000000</td>\n",
              "      <td>62500.000000</td>\n",
              "      <td>79250.000000</td>\n",
              "      <td>86500.000000</td>\n",
              "      <td>101000.000000</td>\n",
              "    </tr>\n",
              "  </tbody>\n",
              "</table>\n",
              "</div>"
            ],
            "text/plain": [
              "             count          mean  ...           75%            max\n",
              "SumPcpn      646.0     18.704119  ...     24.068056      60.733333\n",
              "SumEGDD_C    646.0     74.463072  ...     95.371528     125.036111\n",
              "SumHeatD     646.0      0.071121  ...      0.055556       1.388889\n",
              "SumFrostD    646.0      0.348383  ...      0.166667       4.833333\n",
              "AvgSI        646.0      0.405325  ...      0.566468       0.828571\n",
              "AvgPrcnAWHC  646.0      0.609536  ...      0.846369       0.924365\n",
              "NDVI         646.0      0.480339  ...      0.555080       0.640233\n",
              "Yield        646.0     58.852941  ...     65.000000      75.000000\n",
              "Area         646.0  75047.058824  ...  86500.000000  101000.000000\n",
              "\n",
              "[9 rows x 8 columns]"
            ]
          },
          "metadata": {
            "tags": []
          },
          "execution_count": 6
        }
      ]
    },
    {
      "cell_type": "markdown",
      "metadata": {
        "id": "2rbL8bSGDHy3"
      },
      "source": [
        "### Split the data"
      ]
    },
    {
      "cell_type": "markdown",
      "metadata": {
        "id": "qoFJZmXBaxCc"
      },
      "source": [
        "We'll use a `(70%, 20%, 10%)` split for the training, validation, and test sets. Note the data is **not** being randomly shuffled before splitting. This is for two reasons.\n",
        "\n",
        "1. It ensures that chopping the data into windows of consecutive samples is still possible.\n",
        "2. It ensures that the validation/test results are more realistic, being evaluated on data collected after the model was trained."
      ]
    },
    {
      "cell_type": "code",
      "metadata": {
        "id": "ia-MPAHxbInX"
      },
      "source": [
        "column_indices = {name: i for i, name in enumerate(df.columns)}\n",
        "\n",
        "n = len(df)\n",
        "train_df = df[0:int(n*0.7)]\n",
        "val_df = df[int(n*0.7):int(n*0.9)]\n",
        "test_df = df[int(n*0.9):]\n",
        "\n",
        "num_features = df.shape[1]"
      ],
      "execution_count": 7,
      "outputs": []
    },
    {
      "cell_type": "markdown",
      "metadata": {
        "id": "-eFckdUUHWmT"
      },
      "source": [
        "### Normalize the data\n",
        "\n",
        "It is important to scale features before training a neural network. Normalization is a common way of doing this scaling. Subtract the mean and divide by the standard deviation of each feature."
      ]
    },
    {
      "cell_type": "markdown",
      "metadata": {
        "id": "mxbIic5TMlxx"
      },
      "source": [
        "The mean and standard deviation should only be computed using the training data so that the models have no access to the values in the validation and test sets.\n",
        "\n",
        "It's also arguable that the model shouldn't have access to future values in the training set when training, and that this normalization should be done using moving averages. That's not the focus of this tutorial, and the validation and test sets ensure that you get (somewhat) honest metrics. So in the interest of simplicity this tutorial uses a simple average."
      ]
    },
    {
      "cell_type": "code",
      "metadata": {
        "id": "Eji6njXvHusN",
        "colab": {
          "base_uri": "https://localhost:8080/",
          "height": 419
        },
        "outputId": "86bb13fb-eb9d-48f9-8fee-90f7af288d61"
      },
      "source": [
        "train_mean = train_df.mean()\n",
        "train_std = train_df.std()\n",
        "\n",
        "train_df = (train_df - train_mean) / train_std\n",
        "val_df = (val_df - train_mean) / train_std\n",
        "test_df = (test_df - train_mean) / train_std\n",
        "\n",
        "train_df"
      ],
      "execution_count": 8,
      "outputs": [
        {
          "output_type": "execute_result",
          "data": {
            "text/html": [
              "<div>\n",
              "<style scoped>\n",
              "    .dataframe tbody tr th:only-of-type {\n",
              "        vertical-align: middle;\n",
              "    }\n",
              "\n",
              "    .dataframe tbody tr th {\n",
              "        vertical-align: top;\n",
              "    }\n",
              "\n",
              "    .dataframe thead th {\n",
              "        text-align: right;\n",
              "    }\n",
              "</style>\n",
              "<table border=\"1\" class=\"dataframe\">\n",
              "  <thead>\n",
              "    <tr style=\"text-align: right;\">\n",
              "      <th></th>\n",
              "      <th>SumPcpn</th>\n",
              "      <th>SumEGDD_C</th>\n",
              "      <th>SumHeatD</th>\n",
              "      <th>SumFrostD</th>\n",
              "      <th>AvgSI</th>\n",
              "      <th>AvgPrcnAWHC</th>\n",
              "      <th>NDVI</th>\n",
              "      <th>Yield</th>\n",
              "      <th>Area</th>\n",
              "    </tr>\n",
              "  </thead>\n",
              "  <tbody>\n",
              "    <tr>\n",
              "      <th>0</th>\n",
              "      <td>-0.271259</td>\n",
              "      <td>-2.004844</td>\n",
              "      <td>-0.403869</td>\n",
              "      <td>3.437472</td>\n",
              "      <td>0.854791</td>\n",
              "      <td>1.108191</td>\n",
              "      <td>-2.173840</td>\n",
              "      <td>0.302107</td>\n",
              "      <td>-1.318957</td>\n",
              "    </tr>\n",
              "    <tr>\n",
              "      <th>1</th>\n",
              "      <td>-0.879037</td>\n",
              "      <td>-1.689334</td>\n",
              "      <td>-0.403869</td>\n",
              "      <td>1.924863</td>\n",
              "      <td>0.857313</td>\n",
              "      <td>1.075639</td>\n",
              "      <td>-1.771920</td>\n",
              "      <td>0.302107</td>\n",
              "      <td>-1.318957</td>\n",
              "    </tr>\n",
              "    <tr>\n",
              "      <th>2</th>\n",
              "      <td>-0.889983</td>\n",
              "      <td>-1.480581</td>\n",
              "      <td>-0.403869</td>\n",
              "      <td>1.420660</td>\n",
              "      <td>0.988066</td>\n",
              "      <td>0.965774</td>\n",
              "      <td>-1.409590</td>\n",
              "      <td>0.302107</td>\n",
              "      <td>-1.318957</td>\n",
              "    </tr>\n",
              "    <tr>\n",
              "      <th>3</th>\n",
              "      <td>-0.600785</td>\n",
              "      <td>-1.327584</td>\n",
              "      <td>-0.403869</td>\n",
              "      <td>1.492689</td>\n",
              "      <td>1.070470</td>\n",
              "      <td>0.867491</td>\n",
              "      <td>-1.005106</td>\n",
              "      <td>0.302107</td>\n",
              "      <td>-1.318957</td>\n",
              "    </tr>\n",
              "    <tr>\n",
              "      <th>4</th>\n",
              "      <td>0.929318</td>\n",
              "      <td>-0.936352</td>\n",
              "      <td>-0.403869</td>\n",
              "      <td>0.268196</td>\n",
              "      <td>0.890527</td>\n",
              "      <td>0.952628</td>\n",
              "      <td>-0.613357</td>\n",
              "      <td>0.302107</td>\n",
              "      <td>-1.318957</td>\n",
              "    </tr>\n",
              "    <tr>\n",
              "      <th>...</th>\n",
              "      <td>...</td>\n",
              "      <td>...</td>\n",
              "      <td>...</td>\n",
              "      <td>...</td>\n",
              "      <td>...</td>\n",
              "      <td>...</td>\n",
              "      <td>...</td>\n",
              "      <td>...</td>\n",
              "      <td>...</td>\n",
              "    </tr>\n",
              "    <tr>\n",
              "      <th>447</th>\n",
              "      <td>-0.175052</td>\n",
              "      <td>1.046602</td>\n",
              "      <td>-0.403869</td>\n",
              "      <td>-0.452093</td>\n",
              "      <td>-1.617749</td>\n",
              "      <td>0.117533</td>\n",
              "      <td>0.503999</td>\n",
              "      <td>-0.131792</td>\n",
              "      <td>-2.386992</td>\n",
              "    </tr>\n",
              "    <tr>\n",
              "      <th>448</th>\n",
              "      <td>-0.030453</td>\n",
              "      <td>0.828125</td>\n",
              "      <td>-0.403869</td>\n",
              "      <td>-0.452093</td>\n",
              "      <td>-1.505915</td>\n",
              "      <td>-0.377014</td>\n",
              "      <td>0.417613</td>\n",
              "      <td>-0.131792</td>\n",
              "      <td>-2.386992</td>\n",
              "    </tr>\n",
              "    <tr>\n",
              "      <th>449</th>\n",
              "      <td>-0.920516</td>\n",
              "      <td>0.753954</td>\n",
              "      <td>-0.403869</td>\n",
              "      <td>-0.452093</td>\n",
              "      <td>-1.285611</td>\n",
              "      <td>-0.889714</td>\n",
              "      <td>0.613935</td>\n",
              "      <td>-0.131792</td>\n",
              "      <td>-2.386992</td>\n",
              "    </tr>\n",
              "    <tr>\n",
              "      <th>450</th>\n",
              "      <td>-0.473468</td>\n",
              "      <td>0.930019</td>\n",
              "      <td>-0.403869</td>\n",
              "      <td>-0.452093</td>\n",
              "      <td>-0.691545</td>\n",
              "      <td>-1.356404</td>\n",
              "      <td>0.773847</td>\n",
              "      <td>-0.131792</td>\n",
              "      <td>-2.386992</td>\n",
              "    </tr>\n",
              "    <tr>\n",
              "      <th>451</th>\n",
              "      <td>0.276029</td>\n",
              "      <td>0.867848</td>\n",
              "      <td>-0.403869</td>\n",
              "      <td>-0.452093</td>\n",
              "      <td>-0.387996</td>\n",
              "      <td>-1.365168</td>\n",
              "      <td>0.882187</td>\n",
              "      <td>-0.131792</td>\n",
              "      <td>-2.386992</td>\n",
              "    </tr>\n",
              "  </tbody>\n",
              "</table>\n",
              "<p>452 rows × 9 columns</p>\n",
              "</div>"
            ],
            "text/plain": [
              "      SumPcpn  SumEGDD_C  SumHeatD  ...      NDVI     Yield      Area\n",
              "0   -0.271259  -2.004844 -0.403869  ... -2.173840  0.302107 -1.318957\n",
              "1   -0.879037  -1.689334 -0.403869  ... -1.771920  0.302107 -1.318957\n",
              "2   -0.889983  -1.480581 -0.403869  ... -1.409590  0.302107 -1.318957\n",
              "3   -0.600785  -1.327584 -0.403869  ... -1.005106  0.302107 -1.318957\n",
              "4    0.929318  -0.936352 -0.403869  ... -0.613357  0.302107 -1.318957\n",
              "..        ...        ...       ...  ...       ...       ...       ...\n",
              "447 -0.175052   1.046602 -0.403869  ...  0.503999 -0.131792 -2.386992\n",
              "448 -0.030453   0.828125 -0.403869  ...  0.417613 -0.131792 -2.386992\n",
              "449 -0.920516   0.753954 -0.403869  ...  0.613935 -0.131792 -2.386992\n",
              "450 -0.473468   0.930019 -0.403869  ...  0.773847 -0.131792 -2.386992\n",
              "451  0.276029   0.867848 -0.403869  ...  0.882187 -0.131792 -2.386992\n",
              "\n",
              "[452 rows x 9 columns]"
            ]
          },
          "metadata": {
            "tags": []
          },
          "execution_count": 8
        }
      ]
    },
    {
      "cell_type": "markdown",
      "metadata": {
        "id": "G6ufs8kk9JQw"
      },
      "source": [
        "Now peek at the distribution of the features. Some features do have long tails, but there are no obvious errors like the `-9999` wind velocity value."
      ]
    },
    {
      "cell_type": "code",
      "metadata": {
        "id": "T0UYEnkwm8Fe",
        "colab": {
          "base_uri": "https://localhost:8080/",
          "height": 449
        },
        "outputId": "eacf760c-1dd6-4930-880c-86a65bbd25df"
      },
      "source": [
        "df_std = (df - train_mean) / train_std\n",
        "df_std = df_std.melt(var_name='Column', value_name='Normalized')\n",
        "plt.figure(figsize=(12, 6))\n",
        "ax = sns.violinplot(x='Column', y='Normalized', data=df_std)\n",
        "_ = ax.set_xticklabels(df.keys(), rotation=90)"
      ],
      "execution_count": 9,
      "outputs": [
        {
          "output_type": "display_data",
          "data": {
            "image/png": "[encoded data removed]",
            "text/plain": [
              "<Figure size 864x432 with 1 Axes>"
            ]
          },
          "metadata": {
            "tags": [],
            "needs_background": "light"
          }
        }
      ]
    },
    {
      "cell_type": "markdown",
      "metadata": {
        "id": "ZBBmdxZ2HgfJ"
      },
      "source": [
        "## Data windowing\n",
        "\n",
        "The models in this tutorial will make a set of predictions based on a window of consecutive samples from the data. \n",
        "\n",
        "The main features of the input windows are:\n",
        "\n",
        "* The width (number of time steps) of the input and label windows\n",
        "* The time offset between them.\n",
        "* Which features are used as inputs, labels, or both. \n",
        "\n",
        "This tutorial builds a variety of models (including Linear, DNN, CNN and RNN models), and uses them for both:\n",
        "\n",
        "* *Single-output*, and *multi-output* predictions.\n",
        "* *Single-time-step* and *multi-time-step* predictions.\n",
        "\n",
        "This section focuses on implementing the data windowing so that it can be reused for all of those models.\n"
      ]
    },
    {
      "cell_type": "markdown",
      "metadata": {
        "id": "YAhGUVx1jtOy"
      },
      "source": [
        "Depending on the task and type of model you may want to generate a variety of data windows. Here are some examples:\n",
        "\n",
        "1. For example, to make a single prediction 24h into the future, given 24h of history you might define a window like this:\n",
        "\n",
        "  ![One prediction 24h into the future.](https://github.com/tensorflow/docs/blob/master/site/en/tutorials/structured_data/images/raw_window_24h.png?raw=1)\n",
        "\n",
        "2. A model that makes a prediction 1h into the future, given 6h of history would need a window like this:\n",
        "\n",
        "  ![One prediction 1h into the future.](https://github.com/tensorflow/docs/blob/master/site/en/tutorials/structured_data/images/raw_window_1h.png?raw=1)"
      ]
    },
    {
      "cell_type": "markdown",
      "metadata": {
        "id": "sa2BbfNZt8wy"
      },
      "source": [
        "The rest of this section defines a `WindowGenerator` class. This class can:\n",
        "\n",
        "1. Handle the indexes and offsets as shown in the diagrams above.\n",
        "1. Split windows of features into a `(features, labels)` pairs.\n",
        "2. Plot the content of the resulting windows.\n",
        "3. Efficiently generate batches of these windows from the training, evaluation, and test data, using `tf.data.Dataset`s."
      ]
    },
    {
      "cell_type": "markdown",
      "metadata": {
        "id": "rfx3jGjyziUF"
      },
      "source": [
        "### 1. Indexes and offsets\n",
        "\n",
        "Start by creating the `WindowGenerator` class. The `__init__` method includes all the necessary logic for the input and label indices.\n",
        "\n",
        "It also takes the train, eval, and test dataframes as input. These will be converted to `tf.data.Dataset`s of windows later."
      ]
    },
    {
      "cell_type": "code",
      "metadata": {
        "id": "Kem30j8QHxyW"
      },
      "source": [
        "class WindowGenerator():\n",
        "  def __init__(self, input_width, label_width, shift,\n",
        "               train_df=train_df, val_df=val_df, test_df=test_df,\n",
        "               label_columns=None):\n",
        "    # Store the raw data.\n",
        "    self.train_df = train_df\n",
        "    self.val_df = val_df\n",
        "    self.test_df = test_df\n",
        "\n",
        "    # Work out the label column indices.\n",
        "    self.label_columns = label_columns\n",
        "    if label_columns is not None:\n",
        "      self.label_columns_indices = {name: i for i, name in\n",
        "                                    enumerate(label_columns)}\n",
        "    self.column_indices = {name: i for i, name in\n",
        "                           enumerate(train_df.columns)}\n",
        "\n",
        "    # Work out the window parameters.\n",
        "    self.input_width = input_width\n",
        "    self.label_width = label_width\n",
        "    self.shift = shift\n",
        "\n",
        "    self.total_window_size = input_width + shift\n",
        "\n",
        "    self.input_slice = slice(0, input_width)\n",
        "    self.input_indices = np.arange(self.total_window_size)[self.input_slice]\n",
        "\n",
        "    self.label_start = self.total_window_size - self.label_width\n",
        "    self.labels_slice = slice(self.label_start, None)\n",
        "    self.label_indices = np.arange(self.total_window_size)[self.labels_slice]\n",
        "\n",
        "  def __repr__(self):\n",
        "    return '\\n'.join([\n",
        "        f'Total window size: {self.total_window_size}',\n",
        "        f'Input indices: {self.input_indices}',\n",
        "        f'Label indices: {self.label_indices}',\n",
        "        f'Label column name(s): {self.label_columns}'])"
      ],
      "execution_count": 10,
      "outputs": []
    },
    {
      "cell_type": "code",
      "metadata": {
        "colab": {
          "base_uri": "https://localhost:8080/"
        },
        "id": "fNn4HK7ziTEc",
        "outputId": "990e575b-49af-42db-fd7d-a930f344f0b3"
      },
      "source": [
        "single_step_window = WindowGenerator(\n",
        "    input_width=1, label_width=1, shift=1,\n",
        "    label_columns=['Yield'])\n",
        "single_step_window"
      ],
      "execution_count": null,
      "outputs": [
        {
          "output_type": "execute_result",
          "data": {
            "text/plain": [
              "Total window size: 2\n",
              "Input indices: [0]\n",
              "Label indices: [1]\n",
              "Label column name(s): ['Yield']"
            ]
          },
          "metadata": {
            "tags": []
          },
          "execution_count": 18
        }
      ]
    },
    {
      "cell_type": "markdown",
      "metadata": {
        "id": "kJaUyTWQJd-L"
      },
      "source": [
        "### 2. Split\n",
        "Given a list consecutive inputs, the `split_window` method will convert them to a window of inputs and a window of labels.\n",
        "\n",
        "The example `w2`, above, will be split like this:\n",
        "\n",
        "![The initial window is all consecutive samples, this splits it into an (inputs, labels) pairs](https://github.com/tensorflow/docs/blob/master/site/en/tutorials/structured_data/images/split_window.png?raw=1)\n",
        "\n",
        "This diagram doesn't show the `features` axis of the data, but this `split_window` function also handles the `label_columns` so it can be used for both the single output and multi-output examples."
      ]
    },
    {
      "cell_type": "code",
      "metadata": {
        "id": "W4KbxfzqkXPW"
      },
      "source": [
        "def split_window(self, features):\n",
        "  inputs = features[:, self.input_slice, :]\n",
        "  labels = features[:, self.labels_slice, :]\n",
        "  if self.label_columns is not None:\n",
        "    labels = tf.stack(\n",
        "        [labels[:, :, self.column_indices[name]] for name in self.label_columns],\n",
        "        axis=-1)\n",
        "\n",
        "  # Slicing doesn't preserve static shape information, so set the shapes\n",
        "  # manually. This way the `tf.data.Datasets` are easier to inspect.\n",
        "  inputs.set_shape([None, self.input_width, None])\n",
        "  labels.set_shape([None, self.label_width, None])\n",
        "\n",
        "  return inputs, labels\n",
        "\n",
        "WindowGenerator.split_window = split_window"
      ],
      "execution_count": 11,
      "outputs": []
    },
    {
      "cell_type": "markdown",
      "metadata": {
        "id": "tFZukGXrJoGo"
      },
      "source": [
        "### 3. Plot\n",
        "\n",
        "Here is a plot method that allows a simple visualization of the split window:"
      ]
    },
    {
      "cell_type": "code",
      "metadata": {
        "id": "jIrYccI-Hm3B"
      },
      "source": [
        "def plot(self, model=None, plot_col='Yield', max_subplots=3):\n",
        "  inputs, labels = self.example\n",
        "  plt.figure(figsize=(12, 8))\n",
        "  plot_col_index = self.column_indices[plot_col]\n",
        "  max_n = min(max_subplots, len(inputs))\n",
        "  for n in range(max_n):\n",
        "    plt.subplot(max_n, 1, n+1)\n",
        "    plt.ylabel(f'{plot_col} [normed]')\n",
        "    plt.plot(self.input_indices, inputs[n, :, plot_col_index],\n",
        "             label='Inputs', marker='.', zorder=-10)\n",
        "\n",
        "    if self.label_columns:\n",
        "      label_col_index = self.label_columns_indices.get(plot_col, None)\n",
        "    else:\n",
        "      label_col_index = plot_col_index\n",
        "\n",
        "    if label_col_index is None:\n",
        "      continue\n",
        "\n",
        "    plt.scatter(self.label_indices, labels[n, :, label_col_index],\n",
        "                edgecolors='k', label='Labels', c='#2ca02c', s=64)\n",
        "    if model is not None:\n",
        "      predictions = model(inputs)\n",
        "      plt.scatter(self.label_indices, predictions[n, :, label_col_index],\n",
        "                  marker='X', edgecolors='k', label='Predictions',\n",
        "                  c='#ff7f0e', s=64)\n",
        "\n",
        "    if n == 0:\n",
        "      plt.legend()\n",
        "\n",
        "  plt.xlabel('Time [3-Week Average]')\n",
        "\n",
        "WindowGenerator.plot = plot"
      ],
      "execution_count": 12,
      "outputs": []
    },
    {
      "cell_type": "markdown",
      "metadata": {
        "id": "xCvD-UaUzYMw"
      },
      "source": [
        "### 4. Create `tf.data.Dataset`s"
      ]
    },
    {
      "cell_type": "markdown",
      "metadata": {
        "id": "kLO3SFR9Osdf"
      },
      "source": [
        "Finally this `make_dataset` method will take a time series `DataFrame` and convert it to a `tf.data.Dataset` of `(input_window, label_window)` pairs using the `preprocessing.timeseries_dataset_from_array` function."
      ]
    },
    {
      "cell_type": "code",
      "metadata": {
        "id": "35qoSQeRVfJg"
      },
      "source": [
        "def make_dataset(self, data):\n",
        "  data = np.array(data, dtype=np.float32)\n",
        "  ds = tf.keras.preprocessing.timeseries_dataset_from_array(\n",
        "      data=data,\n",
        "      targets=None,\n",
        "      sequence_length=self.total_window_size,\n",
        "      sequence_stride=1,\n",
        "      shuffle=True,\n",
        "      batch_size=32,)\n",
        "\n",
        "  ds = ds.map(self.split_window)\n",
        "\n",
        "  return ds\n",
        "\n",
        "WindowGenerator.make_dataset = make_dataset"
      ],
      "execution_count": 13,
      "outputs": []
    },
    {
      "cell_type": "markdown",
      "metadata": {
        "id": "LvsxQwJaCift"
      },
      "source": [
        "The `WindowGenerator` object holds training, validation and test data. Add properties for accessing them as `tf.data.Datasets` using the above `make_dataset` method. Also add a standard example batch for easy access and plotting:"
      ]
    },
    {
      "cell_type": "code",
      "metadata": {
        "id": "2jZ2KkqGCfzu"
      },
      "source": [
        "@property\n",
        "def train(self):\n",
        "  return self.make_dataset(self.train_df)\n",
        "\n",
        "@property\n",
        "def val(self):\n",
        "  return self.make_dataset(self.val_df)\n",
        "\n",
        "@property\n",
        "def test(self):\n",
        "  return self.make_dataset(self.test_df)\n",
        "\n",
        "@property\n",
        "def example(self):\n",
        "  \"\"\"Get and cache an example batch of `inputs, labels` for plotting.\"\"\"\n",
        "  result = getattr(self, '_example', None)\n",
        "  if result is None:\n",
        "    # No example batch was found, so get one from the `.train` dataset\n",
        "    result = next(iter(self.train))\n",
        "    # And cache it for next time\n",
        "    self._example = result\n",
        "  return result\n",
        "\n",
        "WindowGenerator.train = train\n",
        "WindowGenerator.val = val\n",
        "WindowGenerator.test = test\n",
        "WindowGenerator.example = example"
      ],
      "execution_count": 14,
      "outputs": []
    },
    {
      "cell_type": "markdown",
      "metadata": {
        "id": "fF_Vj6Iw3Y2w"
      },
      "source": [
        "Now the `WindowGenerator` object gives you access to the `tf.data.Dataset` objects, so you can easily iterate over the data.\n",
        "\n",
        "The `Dataset.element_spec` property tells you the structure, `dtypes` and shapes of the dataset elements."
      ]
    },
    {
      "cell_type": "markdown",
      "metadata": {
        "id": "LyuGuJUgjUK3"
      },
      "source": [
        "## Single step models\n",
        "\n",
        "The simplest model you can build on this sort of data is one that predicts a single feature's value, 1 timestep (1h) in the future based only on the current conditions.\n",
        "\n",
        "So start by building models to predict the `Yield` value 1h into the future.\n",
        "\n",
        "![Predict the next time step](https://github.com/tensorflow/docs/blob/master/site/en/tutorials/structured_data/images/narrow_window.png?raw=1)\n",
        "\n",
        "Configure a `WindowGenerator` object to produce these single-step `(input, label)` pairs:"
      ]
    },
    {
      "cell_type": "markdown",
      "metadata": {
        "id": "D1bbPiR3VAm_"
      },
      "source": [
        "### Baseline\n",
        "\n",
        "Before building a trainable model it would be good to have a performance baseline as a point for comparison with the later more complicated models.\n",
        "\n",
        "This first task is to predict temperature 1h in the future given the current value of all features. The current values include the current temperature. \n",
        "\n",
        "So start with a model that just returns the current temperature as the prediction, predicting \"No change\". This is a reasonable baseline since temperature changes slowly. Of course, this baseline will work less well if you make a prediction further in the future.\n",
        "\n",
        "![Send the input to the output](https://github.com/tensorflow/docs/blob/master/site/en/tutorials/structured_data/images/baseline.png?raw=1)"
      ]
    },
    {
      "cell_type": "code",
      "metadata": {
        "id": "9TybQaIsi3yg"
      },
      "source": [
        "class Baseline(tf.keras.Model):\n",
        "  def __init__(self, label_index=None):\n",
        "    super().__init__()\n",
        "    self.label_index = label_index\n",
        "\n",
        "  def call(self, inputs):\n",
        "    if self.label_index is None:\n",
        "      return inputs\n",
        "    result = inputs[:, :, self.label_index]\n",
        "    return result[:, :, tf.newaxis]"
      ],
      "execution_count": 15,
      "outputs": []
    },
    {
      "cell_type": "markdown",
      "metadata": {
        "id": "0vb3f948i8p8"
      },
      "source": [
        "Instantiate and evaluate this model:"
      ]
    },
    {
      "cell_type": "code",
      "metadata": {
        "id": "IS3-QKc4sX0D",
        "colab": {
          "base_uri": "https://localhost:8080/",
          "height": 214
        },
        "outputId": "4332fb49-49c3-4c0b-d49e-7c1706d699e3"
      },
      "source": [
        "baseline = Baseline(label_index=column_indices['Yield'])\n",
        "\n",
        "baseline.compile(loss=tf.losses.MeanSquaredError(),\n",
        "                 metrics=[tf.metrics.MeanAbsoluteError()])\n",
        "\n",
        "val_performance = {}\n",
        "performance = {}\n",
        "val_performance['Baseline'] = baseline.evaluate(single_step_window.val)\n",
        "performance['Baseline'] = baseline.evaluate(single_step_window.test, verbose=0)"
      ],
      "execution_count": 16,
      "outputs": [
        {
          "output_type": "error",
          "ename": "NameError",
          "evalue": "ignored",
          "traceback": [
            "\u001b[0;31m---------------------------------------------------------------------------\u001b[0m",
            "\u001b[0;31mNameError\u001b[0m                                 Traceback (most recent call last)",
            "\u001b[0;32m<ipython-input-16-3f7ad9f1f456>\u001b[0m in \u001b[0;36m<module>\u001b[0;34m()\u001b[0m\n\u001b[1;32m      6\u001b[0m \u001b[0mval_performance\u001b[0m \u001b[0;34m=\u001b[0m \u001b[0;34m{\u001b[0m\u001b[0;34m}\u001b[0m\u001b[0;34m\u001b[0m\u001b[0;34m\u001b[0m\u001b[0m\n\u001b[1;32m      7\u001b[0m \u001b[0mperformance\u001b[0m \u001b[0;34m=\u001b[0m \u001b[0;34m{\u001b[0m\u001b[0;34m}\u001b[0m\u001b[0;34m\u001b[0m\u001b[0;34m\u001b[0m\u001b[0m\n\u001b[0;32m----> 8\u001b[0;31m \u001b[0mval_performance\u001b[0m\u001b[0;34m[\u001b[0m\u001b[0;34m'Baseline'\u001b[0m\u001b[0;34m]\u001b[0m \u001b[0;34m=\u001b[0m \u001b[0mbaseline\u001b[0m\u001b[0;34m.\u001b[0m\u001b[0mevaluate\u001b[0m\u001b[0;34m(\u001b[0m\u001b[0msingle_step_window\u001b[0m\u001b[0;34m.\u001b[0m\u001b[0mval\u001b[0m\u001b[0;34m)\u001b[0m\u001b[0;34m\u001b[0m\u001b[0;34m\u001b[0m\u001b[0m\n\u001b[0m\u001b[1;32m      9\u001b[0m \u001b[0mperformance\u001b[0m\u001b[0;34m[\u001b[0m\u001b[0;34m'Baseline'\u001b[0m\u001b[0;34m]\u001b[0m \u001b[0;34m=\u001b[0m \u001b[0mbaseline\u001b[0m\u001b[0;34m.\u001b[0m\u001b[0mevaluate\u001b[0m\u001b[0;34m(\u001b[0m\u001b[0msingle_step_window\u001b[0m\u001b[0;34m.\u001b[0m\u001b[0mtest\u001b[0m\u001b[0;34m,\u001b[0m \u001b[0mverbose\u001b[0m\u001b[0;34m=\u001b[0m\u001b[0;36m0\u001b[0m\u001b[0;34m)\u001b[0m\u001b[0;34m\u001b[0m\u001b[0;34m\u001b[0m\u001b[0m\n",
            "\u001b[0;31mNameError\u001b[0m: name 'single_step_window' is not defined"
          ]
        }
      ]
    },
    {
      "cell_type": "markdown",
      "metadata": {
        "id": "nhBxQcCSs7Ec"
      },
      "source": [
        "That printed some performance metrics, but those don't give you a feeling for how well the model is doing.\n",
        "\n",
        "The `WindowGenerator` has a plot method, but the plots won't be very interesting with only a single sample. So, create a wider `WindowGenerator` that generates windows 24h of consecutive inputs and labels at a time. \n",
        "\n",
        "The `wide_window` doesn't change the way the model operates. The model still makes predictions 1h into the future based on a single input time step. Here the `time` axis acts like the `batch` axis: Each prediction is made independently with no interaction between time steps."
      ]
    },
    {
      "cell_type": "code",
      "metadata": {
        "id": "C8jNR5uuJ5Zp",
        "colab": {
          "base_uri": "https://localhost:8080/"
        },
        "outputId": "5401a6ec-892c-4667-e183-ac86ff194fc9"
      },
      "source": [
        "wide_window = WindowGenerator(\n",
        "    input_width=19, label_width=19, shift=19,\n",
        "    label_columns=['Yield'])\n",
        "\n",
        "wide_window"
      ],
      "execution_count": null,
      "outputs": [
        {
          "output_type": "execute_result",
          "data": {
            "text/plain": [
              "Total window size: 38\n",
              "Input indices: [ 0  1  2  3  4  5  6  7  8  9 10 11 12 13 14 15 16 17 18]\n",
              "Label indices: [19 20 21 22 23 24 25 26 27 28 29 30 31 32 33 34 35 36 37]\n",
              "Label column name(s): ['Yield']"
            ]
          },
          "metadata": {
            "tags": []
          },
          "execution_count": 25
        }
      ]
    },
    {
      "cell_type": "markdown",
      "metadata": {
        "id": "ZAnj7CFZkuYv"
      },
      "source": [
        "This expanded window can be passed directly to the same `baseline` model without any code changes. This is possible because the inputs and labels have the same number of timesteps, and the baseline just forwards the input to the output:\n",
        "\n",
        "  ![One prediction 1h into the future, ever hour.](https://github.com/tensorflow/docs/blob/master/site/en/tutorials/structured_data/images/last_window.png?raw=1)"
      ]
    },
    {
      "cell_type": "code",
      "metadata": {
        "id": "sGKdvdg087qs",
        "colab": {
          "base_uri": "https://localhost:8080/"
        },
        "outputId": "9a1a6f42-6cb9-4ea9-fced-280bbe3659c8"
      },
      "source": [
        "print('Input shape:', wide_window.example[0].shape)\n",
        "print('Output shape:', baseline(wide_window.example[0]).shape)"
      ],
      "execution_count": null,
      "outputs": [
        {
          "output_type": "stream",
          "text": [
            "Input shape: (32, 19, 9)\n",
            "Output shape: (32, 19, 1)\n"
          ],
          "name": "stdout"
        }
      ]
    },
    {
      "cell_type": "markdown",
      "metadata": {
        "id": "SKqQHX1K0JW-"
      },
      "source": [
        "Plotting the baseline model's predictions you can see that it is simply the labels, shifted right by 1h."
      ]
    },
    {
      "cell_type": "code",
      "metadata": {
        "id": "jQyAPVLgWTOZ",
        "colab": {
          "base_uri": "https://localhost:8080/",
          "height": 497
        },
        "outputId": "8e1b80ac-a9aa-4a34-df46-21abddc1c685"
      },
      "source": [
        "wide_window.plot(baseline)"
      ],
      "execution_count": null,
      "outputs": [
        {
          "output_type": "display_data",
          "data": {
            "image/png": "[encoded data removed]",
            "text/plain": [
              "<Figure size 864x576 with 3 Axes>"
            ]
          },
          "metadata": {
            "tags": [],
            "needs_background": "light"
          }
        }
      ]
    },
    {
      "cell_type": "markdown",
      "metadata": {
        "id": "e93TLUhfAVg2"
      },
      "source": [
        "In the above plots of three examples the single step model is run over the course of 24h. This deserves some explanation:\n",
        "\n",
        "* The blue \"Inputs\" line shows the input temperature at each time step. The model recieves all features, this plot only shows the temperature.\n",
        "* The green \"Labels\" dots show the target prediction value. These dots are shown at the prediction time, not the input time. That is why the range of labels is shifted 1 step relative to the inputs.\n",
        "* The orange \"Predictions\" crosses are the model's prediction's for each output time step. If the model were predicting perfectly the predictions would land directly on the \"labels\"."
      ]
    },
    {
      "cell_type": "markdown",
      "metadata": {
        "id": "E4aOJScj52Yu"
      },
      "source": [
        "### Linear model\n",
        "\n",
        "The simplest **trainable** model you can apply to this task is to insert linear transformation between the input and output. In this case the output from a time step only depends on that step:\n",
        "\n",
        "![A single step prediction](https://github.com/tensorflow/docs/blob/master/site/en/tutorials/structured_data/images/narrow_window.png?raw=1)\n",
        "\n",
        "A `layers.Dense` with no `activation` set is a linear model. The layer only transforms the last axis of the data from `(batch, time, inputs)` to `(batch, time, units)`, it is applied independently to every item across the `batch` and `time` axes."
      ]
    },
    {
      "cell_type": "code",
      "metadata": {
        "id": "6341OXuQ5xA9"
      },
      "source": [
        "linear = tf.keras.Sequential([\n",
        "    tf.keras.layers.Dense(units=1)\n",
        "])"
      ],
      "execution_count": null,
      "outputs": []
    },
    {
      "cell_type": "code",
      "metadata": {
        "id": "KwaOM8RucUSn",
        "colab": {
          "base_uri": "https://localhost:8080/"
        },
        "outputId": "9f5ef8f9-6f7c-4066-e61d-d2323ab167ba"
      },
      "source": [
        "print('Input shape:', single_step_window.example[0].shape)\n",
        "print('Output shape:', linear(single_step_window.example[0]).shape)"
      ],
      "execution_count": null,
      "outputs": [
        {
          "output_type": "stream",
          "text": [
            "Input shape: (32, 1, 9)\n",
            "Output shape: (32, 1, 1)\n"
          ],
          "name": "stdout"
        }
      ]
    },
    {
      "cell_type": "markdown",
      "metadata": {
        "id": "OMZTYIj3bYLg"
      },
      "source": [
        "This tutorial trains many models, so package the training procedure into a function:"
      ]
    },
    {
      "cell_type": "code",
      "metadata": {
        "id": "CbCL6VIrk-Gt"
      },
      "source": [
        "MAX_EPOCHS = 200\n",
        "!mkdir -p saved_model\n",
        "model_name = 'LSTM'\n",
        "def compile_and_fit(model, window, patience=5):\n",
        "   # Checkpoint callback usage\n",
        "  checkpoint_path = '/content/drive/MyDrive/GEOG481/output/{2}_{0}_200epoch_{1}_cp.ckpt'.format(crop_type, caruid, model_name)\n",
        "  print(checkpoint_path)\n",
        "  # checkpoint_path = 'saved_model/Barley_1100/training_1/cp.ckpt'\n",
        "  checkpoint_dir = os.path.dirname(checkpoint_path)\n",
        "  \n",
        "  # Create a callback that saves the model's weights\n",
        "  cp_callback = tf.keras.callbacks.ModelCheckpoint(filepath=checkpoint_dir,\n",
        "                                                  save_weights_only=True,\n",
        "                                                  monitor='val_accuracy',\n",
        "                                                  verbose=1)\n",
        "  \n",
        "  early_stopping = tf.keras.callbacks.EarlyStopping(monitor='val_loss',\n",
        "                                                    patience=patience,\n",
        "                                                    mode='min')\n",
        "\n",
        "  model.compile(loss=tf.losses.MeanSquaredError(),\n",
        "                optimizer=tf.optimizers.Adam(),\n",
        "                metrics=[tf.metrics.MeanAbsoluteError()])\n",
        "\n",
        "  history = model.fit(window.train, epochs=MAX_EPOCHS,\n",
        "                      validation_data=window.val,\n",
        "                      callbacks=[early_stopping])\n",
        "  return history"
      ],
      "execution_count": null,
      "outputs": []
    },
    {
      "cell_type": "markdown",
      "metadata": {
        "id": "OobVjM-schwj"
      },
      "source": [
        "Train the model and evaluate its performance:"
      ]
    },
    {
      "cell_type": "code",
      "metadata": {
        "id": "9agbz2qB9bLS",
        "colab": {
          "base_uri": "https://localhost:8080/"
        },
        "outputId": "e6626b81-7e4b-41df-ef9c-699b19ad2101"
      },
      "source": [
        "history = compile_and_fit(linear, single_step_window)\n",
        "\n",
        "val_performance['Linear'] = linear.evaluate(single_step_window.val)\n",
        "performance['Linear'] = linear.evaluate(single_step_window.test, verbose=0)"
      ],
      "execution_count": null,
      "outputs": [
        {
          "output_type": "stream",
          "text": [
            "/content/Linear_BARLEY_200epoch_1100_cp.ckpt\n",
            "Epoch 1/200\n",
            "15/15 [==============================] - 0s 11ms/step - loss: 0.1326 - mean_absolute_error: 0.1282 - val_loss: 0.0238 - val_mean_absolute_error: 0.1060\n",
            "Epoch 2/200\n",
            "15/15 [==============================] - 0s 9ms/step - loss: 0.1321 - mean_absolute_error: 0.1274 - val_loss: 0.0233 - val_mean_absolute_error: 0.1036\n",
            "Epoch 3/200\n",
            "15/15 [==============================] - 0s 6ms/step - loss: 0.1322 - mean_absolute_error: 0.1263 - val_loss: 0.0235 - val_mean_absolute_error: 0.1046\n",
            "Epoch 4/200\n",
            "15/15 [==============================] - 0s 6ms/step - loss: 0.1322 - mean_absolute_error: 0.1237 - val_loss: 0.0227 - val_mean_absolute_error: 0.1013\n",
            "Epoch 5/200\n",
            "15/15 [==============================] - 0s 7ms/step - loss: 0.1322 - mean_absolute_error: 0.1222 - val_loss: 0.0225 - val_mean_absolute_error: 0.1003\n",
            "Epoch 6/200\n",
            "15/15 [==============================] - 0s 7ms/step - loss: 0.1322 - mean_absolute_error: 0.1230 - val_loss: 0.0227 - val_mean_absolute_error: 0.1002\n",
            "Epoch 7/200\n",
            "15/15 [==============================] - 0s 7ms/step - loss: 0.1320 - mean_absolute_error: 0.1225 - val_loss: 0.0232 - val_mean_absolute_error: 0.1030\n",
            "Epoch 8/200\n",
            "15/15 [==============================] - 0s 6ms/step - loss: 0.1320 - mean_absolute_error: 0.1224 - val_loss: 0.0233 - val_mean_absolute_error: 0.1038\n",
            "Epoch 9/200\n",
            "15/15 [==============================] - 0s 7ms/step - loss: 0.1320 - mean_absolute_error: 0.1223 - val_loss: 0.0229 - val_mean_absolute_error: 0.1016\n",
            "Epoch 10/200\n",
            "15/15 [==============================] - 0s 7ms/step - loss: 0.1320 - mean_absolute_error: 0.1213 - val_loss: 0.0223 - val_mean_absolute_error: 0.0985\n",
            "Epoch 11/200\n",
            "15/15 [==============================] - 0s 7ms/step - loss: 0.1322 - mean_absolute_error: 0.1215 - val_loss: 0.0221 - val_mean_absolute_error: 0.0965\n",
            "Epoch 12/200\n",
            "15/15 [==============================] - 0s 6ms/step - loss: 0.1320 - mean_absolute_error: 0.1207 - val_loss: 0.0219 - val_mean_absolute_error: 0.0963\n",
            "Epoch 13/200\n",
            "15/15 [==============================] - 0s 7ms/step - loss: 0.1320 - mean_absolute_error: 0.1205 - val_loss: 0.0221 - val_mean_absolute_error: 0.0974\n",
            "Epoch 14/200\n",
            "15/15 [==============================] - 0s 6ms/step - loss: 0.1321 - mean_absolute_error: 0.1201 - val_loss: 0.0231 - val_mean_absolute_error: 0.1021\n",
            "Epoch 15/200\n",
            "15/15 [==============================] - 0s 7ms/step - loss: 0.1321 - mean_absolute_error: 0.1194 - val_loss: 0.0228 - val_mean_absolute_error: 0.1006\n",
            "Epoch 16/200\n",
            "15/15 [==============================] - 0s 7ms/step - loss: 0.1322 - mean_absolute_error: 0.1187 - val_loss: 0.0229 - val_mean_absolute_error: 0.1010\n",
            "Epoch 17/200\n",
            "15/15 [==============================] - 0s 6ms/step - loss: 0.1321 - mean_absolute_error: 0.1198 - val_loss: 0.0226 - val_mean_absolute_error: 0.0989\n",
            "4/4 [==============================] - 0s 3ms/step - loss: 0.0226 - mean_absolute_error: 0.0989\n"
          ],
          "name": "stdout"
        }
      ]
    },
    {
      "cell_type": "markdown",
      "metadata": {
        "id": "7U9XukYh8beN"
      },
      "source": [
        "Like the `baseline` model, the linear model can be called on batches of wide windows. Used this way the model makes a set of independent predictions on consecutive time steps. The `time` axis acts like another `batch` axis. There are no interactions between the predictions at each time step.\n",
        "\n",
        "![A single step prediction](https://github.com/tensorflow/docs/blob/master/site/en/tutorials/structured_data/images/wide_window.png?raw=1)"
      ]
    },
    {
      "cell_type": "code",
      "metadata": {
        "id": "K9UVM5Sw9KQN",
        "colab": {
          "base_uri": "https://localhost:8080/"
        },
        "outputId": "4f5dd762-2232-4607-b74c-e71c54218004"
      },
      "source": [
        "print('Input shape:', wide_window.example[0].shape)\n",
        "print('Output shape:', baseline(wide_window.example[0]).shape)"
      ],
      "execution_count": null,
      "outputs": [
        {
          "output_type": "stream",
          "text": [
            "Input shape: (32, 19, 9)\n",
            "Output shape: (32, 19, 1)\n"
          ],
          "name": "stdout"
        }
      ]
    },
    {
      "cell_type": "markdown",
      "metadata": {
        "id": "X-CGj85oKaOG"
      },
      "source": [
        "Here is the plot of its example predictions on the `wide_window`, note how in many cases the prediction is clearly better than just returning the input temperature, but in a few cases it's worse:"
      ]
    },
    {
      "cell_type": "code",
      "metadata": {
        "id": "bCC8VVo-OvwV",
        "colab": {
          "base_uri": "https://localhost:8080/",
          "height": 497
        },
        "outputId": "6da2ece7-d08b-4cbb-f12b-8600284cb8c5"
      },
      "source": [
        "wide_window.plot(linear)"
      ],
      "execution_count": null,
      "outputs": [
        {
          "output_type": "display_data",
          "data": {
            "image/png": "[encoded data removed]",
            "text/plain": [
              "<Figure size 864x576 with 3 Axes>"
            ]
          },
          "metadata": {
            "tags": [],
            "needs_background": "light"
          }
        }
      ]
    },
    {
      "cell_type": "markdown",
      "metadata": {
        "id": "Is51vU8EMl6c"
      },
      "source": [
        "One advantage to linear models is that they're relatively simple to  interpret.\n",
        "You can pull out the layer's weights, and see the weight assigned to each input:"
      ]
    },
    {
      "cell_type": "code",
      "metadata": {
        "id": "d4uCTbsmK8VI",
        "colab": {
          "base_uri": "https://localhost:8080/",
          "height": 326
        },
        "outputId": "87c48688-f40b-432f-d377-04b8c6060004"
      },
      "source": [
        "plt.bar(x = range(len(train_df.columns)),\n",
        "        height=linear.layers[0].kernel[:,0].numpy())\n",
        "axis = plt.gca()\n",
        "axis.set_xticks(range(len(train_df.columns)))\n",
        "_ = axis.set_xticklabels(train_df.columns, rotation=90)"
      ],
      "execution_count": null,
      "outputs": [
        {
          "output_type": "display_data",
          "data": {
            "image/png": "[encoded data removed]",
            "text/plain": [
              "<Figure size 432x288 with 1 Axes>"
            ]
          },
          "metadata": {
            "tags": [],
            "needs_background": "light"
          }
        }
      ]
    },
    {
      "cell_type": "markdown",
      "metadata": {
        "id": "Ylng7215boIY"
      },
      "source": [
        "Sometimes the model doesn't even place the most weight on the input `T (degC)`. This is one of the risks of random initialization. "
      ]
    },
    {
      "cell_type": "markdown",
      "metadata": {
        "id": "H4crpOcoMlSe"
      },
      "source": [
        "### Single-Step Recurrent neural network\n",
        "\n",
        "A Recurrent Neural Network (RNN) is a type of neural network well-suited to time series data. RNNs process a time series step-by-step, maintaining an internal state from time-step to time-step.\n",
        "\n",
        "For more details, read the [text generation tutorial](https://www.tensorflow.org/tutorials/text/text_generation) or the [RNN guide](https://www.tensorflow.org/guide/keras/rnn). \n",
        "\n",
        "In this tutorial, you will use an RNN layer called Long Short Term Memory ([LSTM](https://www.tensorflow.org/versions/r2.0/api_docs/python/tf/keras/layers/LSTM))."
      ]
    },
    {
      "cell_type": "markdown",
      "metadata": {
        "id": "vfQbHSMb1ATa"
      },
      "source": [
        "An important constructor argument for all keras RNN layers is the `return_sequences` argument. This setting can configure the layer in one of two ways.\n",
        "\n",
        "1. If `False`, the default, the layer only returns the output of the final timestep, giving the model time to warm up its internal state before making a single prediction: \n",
        "\n",
        "![An lstm warming up and making a single prediction](https://github.com/tensorflow/docs/blob/master/site/en/tutorials/structured_data/images/lstm_1_window.png?raw=1)\n",
        "\n",
        "2. If `True` the layer returns an output for each input. This is useful for:\n",
        "  * Stacking RNN layers. \n",
        "  * Training a model on multiple timesteps simultaneously.\n",
        "\n",
        "![An lstm making a prediction after every timestep](https://github.com/tensorflow/docs/blob/master/site/en/tutorials/structured_data/images/lstm_many_window.png?raw=1)"
      ]
    },
    {
      "cell_type": "code",
      "metadata": {
        "id": "aMG5iwlf1apW"
      },
      "source": [
        "MAX_EPOCHS = 5000\n",
        "!mkdir -p saved_model\n",
        "model_name = 'LSTM'\n",
        "def compile_and_fit(model, window, patience=5):\n",
        "   # Checkpoint callback usage\n",
        "  checkpoint_path = '/content/drive/MyDrive/GEOG481/output/{2}_{0}_200epoch_{1}_cp.ckpt'.format(crop_type, caruid, model_name)\n",
        "  print(checkpoint_path)\n",
        "  # checkpoint_path = 'saved_model/Barley_1100/training_1/cp.ckpt'\n",
        "  checkpoint_dir = os.path.dirname(checkpoint_path)\n",
        "  \n",
        "  # Create a callback that saves the model's weights\n",
        "  cp_callback = tf.keras.callbacks.ModelCheckpoint(filepath=checkpoint_dir,\n",
        "                                                  save_weights_only=True,\n",
        "                                                  monitor='val_accuracy',\n",
        "                                                  verbose=1)\n",
        "  \n",
        "  early_stopping = tf.keras.callbacks.EarlyStopping(monitor='val_loss',\n",
        "                                                    patience=patience,\n",
        "                                                    mode='min')\n",
        "\n",
        "  model.compile(loss=tf.losses.MeanSquaredError(),\n",
        "                optimizer=tf.optimizers.Adam(),\n",
        "                metrics=[tf.metrics.MeanAbsoluteError()])\n",
        "\n",
        "  history = model.fit(window.train, epochs=MAX_EPOCHS,\n",
        "                      validation_data=window.val,\n",
        "                      callbacks=[early_stopping])\n",
        "  return history"
      ],
      "execution_count": null,
      "outputs": []
    },
    {
      "cell_type": "code",
      "metadata": {
        "id": "DXKLCJy8nWNU"
      },
      "source": [
        "lstm_model = tf.keras.models.Sequential([\n",
        "    # Shape [batch, time, features] => [batch, time, lstm_units]\n",
        "    tf.keras.layers.LSTM(256, return_sequences=True),\n",
        "    # Shape => [batch, time, features]\n",
        "    tf.keras.layers.Dense(units=1)\n",
        "])"
      ],
      "execution_count": null,
      "outputs": []
    },
    {
      "cell_type": "markdown",
      "metadata": {
        "id": "F124B00KZcLC"
      },
      "source": [
        "With `return_sequences=True` the model can be trained on 24h of data at a time.\n",
        "\n",
        "Note: This will give a pessimistic view of the model's performance. On the first timestep the model has no access to previous steps, and so can't do any better than the simple `linear` and `dense` models shown earlier."
      ]
    },
    {
      "cell_type": "code",
      "metadata": {
        "id": "eZEROCQVYV6q",
        "colab": {
          "base_uri": "https://localhost:8080/"
        },
        "outputId": "f00cb78f-81f1-4531-e77a-72d1945577f3"
      },
      "source": [
        "print('Input shape:', wide_window.example[0].shape)\n",
        "print('Output shape:', lstm_model(wide_window.example[0]).shape)"
      ],
      "execution_count": null,
      "outputs": [
        {
          "output_type": "stream",
          "text": [
            "Input shape: (32, 19, 9)\n",
            "Output shape: (32, 19, 1)\n"
          ],
          "name": "stdout"
        }
      ]
    },
    {
      "cell_type": "code",
      "metadata": {
        "id": "uvdWRl1e9WJl",
        "colab": {
          "base_uri": "https://localhost:8080/"
        },
        "outputId": "96815187-ea34-4b49-b7b7-7b45b2d98d42"
      },
      "source": [
        "\n",
        "\n",
        "history = compile_and_fit(lstm_model, wide_window)\n",
        "\n",
        "IPython.display.clear_output()\n",
        "val_performance['LSTM'] = lstm_model.evaluate(wide_window.val)\n",
        "performance['LSTM'] = lstm_model.evaluate(wide_window.test, verbose=0)"
      ],
      "execution_count": null,
      "outputs": [
        {
          "output_type": "stream",
          "text": [
            "3/3 [==============================] - 0s 5ms/step - loss: 1.0874 - mean_absolute_error: 0.9052\n"
          ],
          "name": "stdout"
        }
      ]
    },
    {
      "cell_type": "code",
      "metadata": {
        "id": "NwAOWCVgB26e",
        "colab": {
          "base_uri": "https://localhost:8080/",
          "height": 497
        },
        "outputId": "7896596b-1762-4f8b-ccae-027f6fc8eefd"
      },
      "source": [
        "wide_window.plot(lstm_model)"
      ],
      "execution_count": null,
      "outputs": [
        {
          "output_type": "display_data",
          "data": {
            "image/png": "[encoded data removed]",
            "text/plain": [
              "<Figure size 864x576 with 3 Axes>"
            ]
          },
          "metadata": {
            "tags": [],
            "needs_background": "light"
          }
        }
      ]
    },
    {
      "cell_type": "markdown",
      "metadata": {
        "id": "pYglOCKehi8F"
      },
      "source": [
        "### Performance"
      ]
    },
    {
      "cell_type": "markdown",
      "metadata": {
        "id": "2pCk0_rwhi8H"
      },
      "source": [
        "With this dataset typically each of the models does slightly better than the one before it."
      ]
    },
    {
      "cell_type": "code",
      "metadata": {
        "id": "JjEkt488hi8I",
        "colab": {
          "base_uri": "https://localhost:8080/",
          "height": 294
        },
        "outputId": "878df0ba-8539-4f8e-eed3-bd7aa97088d8"
      },
      "source": [
        "x = np.arange(len(performance))\n",
        "width = 0.3\n",
        "metric_name = 'mean_absolute_error'\n",
        "metric_index = lstm_model.metrics_names.index('mean_absolute_error')\n",
        "val_mae = [v[metric_index] for v in val_performance.values()]\n",
        "test_mae = [v[metric_index] for v in performance.values()]\n",
        "\n",
        "plt.ylabel('mean_absolute_error [T (degC), normalized]')\n",
        "plt.bar(x - 0.17, val_mae, width, label='Validation')\n",
        "plt.bar(x + 0.17, test_mae, width, label='Test')\n",
        "plt.xticks(ticks=x, labels=performance.keys(),\n",
        "           rotation=45)\n",
        "_ = plt.legend()"
      ],
      "execution_count": null,
      "outputs": [
        {
          "output_type": "display_data",
          "data": {
            "image/png": "[encoded data removed]",
            "text/plain": [
              "<Figure size 432x288 with 1 Axes>"
            ]
          },
          "metadata": {
            "tags": [],
            "needs_background": "light"
          }
        }
      ]
    },
    {
      "cell_type": "code",
      "metadata": {
        "id": "cBMCpsdphi8L",
        "colab": {
          "base_uri": "https://localhost:8080/"
        },
        "outputId": "c9bdef54-bdc2-466d-b2c5-55cd346695ff"
      },
      "source": [
        "for name, value in performance.items():\n",
        "  print(f'{name:12s}: {value[1]:0.4f}')"
      ],
      "execution_count": null,
      "outputs": [
        {
          "output_type": "stream",
          "text": [
            "Baseline    : 0.0188\n",
            "Linear      : 0.1297\n",
            "Dense       : 0.2421\n",
            "LSTM        : 1.3851\n"
          ],
          "name": "stdout"
        }
      ]
    },
    {
      "cell_type": "markdown",
      "metadata": {
        "id": "eYokb7Om2YbK"
      },
      "source": [
        "## Multi-step models\n",
        "\n",
        "Both the single-output and multiple-output models in the previous sections made **single time step predictions**, 1h into the future.\n",
        "\n",
        "This section looks at how to expand these models to make **multiple time step predictions**.\n",
        "\n",
        "In a multi-step prediction, the model needs to learn to predict a range of future values. Thus, unlike a single step model, where only a single future point is predicted, a multi-step model predicts a sequence of the future values.\n",
        "\n",
        "There are two rough approaches to this:\n",
        "\n",
        "1. Single shot predictions where the entire time series is predicted at once.\n",
        "2. Autoregressive predictions where the model only makes single step predictions and its output is fed back as its input.\n",
        "\n",
        "In this section all the models will predict **all the features across all output time steps**.\n"
      ]
    },
    {
      "cell_type": "markdown",
      "metadata": {
        "id": "WFsDAwVt4_rq"
      },
      "source": [
        "For the multi-step model, the training data again consists of hourly samples. However, here, the models will learn to predict 24h of the future, given 24h of the past.\n",
        "\n",
        "Here is a `Window` object that generates these slices from the dataset:"
      ]
    },
    {
      "cell_type": "code",
      "metadata": {
        "id": "1cFYtsz6XiGw",
        "colab": {
          "base_uri": "https://localhost:8080/",
          "height": 565
        },
        "outputId": "4ba47415-1b7d-47c7-a4d7-0e5262b259f6"
      },
      "source": [
        "OUT_STEPS = 19\n",
        "multi_window = WindowGenerator(input_width=19,\n",
        "                               label_width=OUT_STEPS,\n",
        "                               shift=OUT_STEPS)\n",
        "\n",
        "multi_window.plot()\n",
        "multi_window"
      ],
      "execution_count": 17,
      "outputs": [
        {
          "output_type": "execute_result",
          "data": {
            "text/plain": [
              "Total window size: 38\n",
              "Input indices: [ 0  1  2  3  4  5  6  7  8  9 10 11 12 13 14 15 16 17 18]\n",
              "Label indices: [19 20 21 22 23 24 25 26 27 28 29 30 31 32 33 34 35 36 37]\n",
              "Label column name(s): None"
            ]
          },
          "metadata": {
            "tags": []
          },
          "execution_count": 17
        },
        {
          "output_type": "display_data",
          "data": {
            "image/png": "[encoded data removed]",
            "text/plain": [
              "<Figure size 864x576 with 3 Axes>"
            ]
          },
          "metadata": {
            "tags": [],
            "needs_background": "light"
          }
        }
      ]
    },
    {
      "cell_type": "markdown",
      "metadata": {
        "id": "5lg8SInh9Jzd"
      },
      "source": [
        "### Baselines"
      ]
    },
    {
      "cell_type": "markdown",
      "metadata": {
        "id": "axwpoWYOApJL"
      },
      "source": [
        "A simple baseline for this task is to repeat the last input time step for the required number of output timesteps:\n",
        "\n",
        "![Repeat the last input, for each output step](https://github.com/tensorflow/docs/blob/master/site/en/tutorials/structured_data/images/multistep_last.png?raw=1)"
      ]
    },
    {
      "cell_type": "code",
      "metadata": {
        "id": "_5iaHSaJ9Rxv",
        "colab": {
          "base_uri": "https://localhost:8080/",
          "height": 514
        },
        "outputId": "013e4e8a-fdf5-4b5a-aeef-75d0af85f974"
      },
      "source": [
        "class MultiStepLastBaseline(tf.keras.Model):\n",
        "  def call(self, inputs):\n",
        "    return tf.tile(inputs[:, -1:, :], [1, OUT_STEPS, 1])\n",
        "\n",
        "last_baseline = MultiStepLastBaseline()\n",
        "last_baseline.compile(loss=tf.losses.MeanSquaredError(),\n",
        "                      metrics=[tf.metrics.MeanAbsoluteError()])\n",
        "\n",
        "multi_val_performance = {}\n",
        "multi_performance = {}\n",
        "\n",
        "multi_val_performance['Last'] = last_baseline.evaluate(multi_window.val)\n",
        "multi_performance['Last'] = last_baseline.evaluate(multi_window.test, verbose=0)\n",
        "multi_window.plot(last_baseline)"
      ],
      "execution_count": 50,
      "outputs": [
        {
          "output_type": "stream",
          "text": [
            "3/3 [==============================] - 0s 3ms/step - loss: 1.4932 - mean_absolute_error: 0.7801\n"
          ],
          "name": "stdout"
        },
        {
          "output_type": "display_data",
          "data": {
            "image/png": "[encoded data removed]",
            "text/plain": [
              "<Figure size 864x576 with 3 Axes>"
            ]
          },
          "metadata": {
            "tags": [],
            "needs_background": "light"
          }
        }
      ]
    },
    {
      "cell_type": "markdown",
      "metadata": {
        "id": "AvHZ93ObAfMA"
      },
      "source": [
        "Since this task is to predict 24h given 24h another simple approach is to repeat the previous day, assuming tomorrow will be similar:\n",
        "\n",
        "![Repeat the previous day](https://github.com/tensorflow/docs/blob/master/site/en/tutorials/structured_data/images/multistep_repeat.png?raw=1)"
      ]
    },
    {
      "cell_type": "code",
      "metadata": {
        "id": "L8Y1uMhGwIRs",
        "colab": {
          "base_uri": "https://localhost:8080/",
          "height": 514
        },
        "outputId": "d81f7f47-2641-4eac-90b5-e29071edadd8"
      },
      "source": [
        "class RepeatBaseline(tf.keras.Model):\n",
        "  def call(self, inputs):\n",
        "    return inputs\n",
        "\n",
        "repeat_baseline = RepeatBaseline()\n",
        "repeat_baseline.compile(loss=tf.losses.MeanSquaredError(),\n",
        "                        metrics=[tf.metrics.MeanAbsoluteError()])\n",
        "\n",
        "multi_val_performance['Repeat'] = repeat_baseline.evaluate(multi_window.val)\n",
        "multi_performance['Repeat'] = repeat_baseline.evaluate(multi_window.test, verbose=0)\n",
        "multi_window.plot(repeat_baseline)"
      ],
      "execution_count": 51,
      "outputs": [
        {
          "output_type": "stream",
          "text": [
            "3/3 [==============================] - 0s 3ms/step - loss: 0.6784 - mean_absolute_error: 0.5052\n"
          ],
          "name": "stdout"
        },
        {
          "output_type": "display_data",
          "data": {
            "image/png": "[encoded data removed]",
            "text/plain": [
              "<Figure size 864x576 with 3 Axes>"
            ]
          },
          "metadata": {
            "tags": [],
            "needs_background": "light"
          }
        }
      ]
    },
    {
      "cell_type": "code",
      "metadata": {
        "id": "kfRz_WVhIQcd",
        "colab": {
          "base_uri": "https://localhost:8080/",
          "height": 514
        },
        "outputId": "adb60ad5-7185-4155-b128-3508664f42ab"
      },
      "source": [
        "multi_linear_model = tf.keras.Sequential([\n",
        "    # Take the last time-step.\n",
        "    # Shape [batch, time, features] => [batch, 1, features]\n",
        "    tf.keras.layers.Lambda(lambda x: x[:, -1:, :]),\n",
        "    # Shape => [batch, 1, out_steps*features]\n",
        "    tf.keras.layers.Dense(OUT_STEPS*num_features,\n",
        "                          kernel_initializer=tf.initializers.zeros()),\n",
        "    # Shape => [batch, out_steps, features]\n",
        "    tf.keras.layers.Reshape([OUT_STEPS, num_features])\n",
        "])\n",
        "\n",
        "history = compile_and_fit(multi_linear_model, multi_window)\n",
        "\n",
        "IPython.display.clear_output()\n",
        "multi_val_performance['Linear'] = multi_linear_model.evaluate(multi_window.val)\n",
        "multi_performance['Linear'] = multi_linear_model.evaluate(multi_window.test, verbose=0)\n",
        "multi_window.plot(multi_linear_model)"
      ],
      "execution_count": 52,
      "outputs": [
        {
          "output_type": "stream",
          "text": [
            "3/3 [==============================] - 0s 4ms/step - loss: 0.7864 - mean_absolute_error: 0.6683\n"
          ],
          "name": "stdout"
        },
        {
          "output_type": "display_data",
          "data": {
            "image/png": "[encoded data removed]",
            "text/plain": [
              "<Figure size 864x576 with 3 Axes>"
            ]
          },
          "metadata": {
            "tags": [],
            "needs_background": "light"
          }
        }
      ]
    },
    {
      "cell_type": "markdown",
      "metadata": {
        "id": "weBjeZAFJOP4"
      },
      "source": [
        "#### RNN"
      ]
    },
    {
      "cell_type": "markdown",
      "metadata": {
        "id": "8022xOKxOO92"
      },
      "source": [
        "A recurrent model can learn to use a long history of inputs, if it's relevant to the predictions the model is making. Here the model will accumulate internal state for 24h, before making a single prediction for the next 24h.\n",
        "\n",
        "In this single-shot format, the LSTM only needs to produce an output at the last time step, so set `return_sequences=False`.\n",
        "\n",
        "![The lstm accumulates state over the input window, and makes a single prediction for the next 24h](https://github.com/tensorflow/docs/blob/master/site/en/tutorials/structured_data/images/multistep_lstm.png?raw=1)\n"
      ]
    },
    {
      "cell_type": "code",
      "metadata": {
        "id": "Bf1ks6RTzF64",
        "colab": {
          "base_uri": "https://localhost:8080/",
          "height": 514
        },
        "outputId": "1b70d89d-d991-482f-bf50-11d7ea030f5e"
      },
      "source": [
        "multi_lstm_model = tf.keras.Sequential([\n",
        "    # Shape [batch, time, features] => [batch, lstm_units]\n",
        "    # Adding more `lstm_units` just overfits more quickly.\n",
        "    tf.keras.layers.LSTM(32, return_sequences=False),\n",
        "    # Shape => [batch, out_steps*features]\n",
        "    tf.keras.layers.Dense(OUT_STEPS*num_features,\n",
        "                          kernel_initializer=tf.initializers.zeros()),\n",
        "    # Shape => [batch, out_steps, features]\n",
        "    tf.keras.layers.Reshape([OUT_STEPS, num_features])\n",
        "])\n",
        "\n",
        "history = compile_and_fit(multi_lstm_model, multi_window)\n",
        "\n",
        "IPython.display.clear_output()\n",
        "\n",
        "multi_val_performance['LSTM'] = multi_lstm_model.evaluate(multi_window.val)\n",
        "multi_performance['LSTM'] = multi_lstm_model.evaluate(multi_window.test, verbose=0)\n",
        "multi_window.plot(multi_lstm_model)"
      ],
      "execution_count": 53,
      "outputs": [
        {
          "output_type": "stream",
          "text": [
            "3/3 [==============================] - 0s 4ms/step - loss: 0.7152 - mean_absolute_error: 0.6158\n"
          ],
          "name": "stdout"
        },
        {
          "output_type": "display_data",
          "data": {
            "image/png": "[encoded data removed]",
            "text/plain": [
              "<Figure size 864x576 with 3 Axes>"
            ]
          },
          "metadata": {
            "tags": [],
            "needs_background": "light"
          }
        }
      ]
    },
    {
      "cell_type": "markdown",
      "metadata": {
        "id": "d5n-1cDW12Vo"
      },
      "source": [
        "### Advanced: Autoregressive model\n",
        "\n",
        "The above models all predict the entire output sequence in a single step.\n",
        "\n",
        "In some cases it may be helpful for the model to decompose this prediction into individual time steps. Then each model's output can be fed back into itself at each step and predictions can be made conditioned on the previous one, like in the classic [Generating Sequences With Recurrent Neural Networks](https://arxiv.org/abs/1308.0850).\n",
        "\n",
        "One clear advantage to this style of model is that it can be set up to produce output with a varying length.\n",
        "\n",
        "You could take any of the single-step multi-output models trained in the first half of this tutorial and run  in an autoregressive feedback loop, but here you'll focus on building a model that's been explicitly trained to do that.\n",
        "\n",
        "![Feedback a model's output to its input](https://github.com/tensorflow/docs/blob/master/site/en/tutorials/structured_data/images/multistep_autoregressive.png?raw=1)\n"
      ]
    },
    {
      "cell_type": "markdown",
      "metadata": {
        "id": "PKRreBbULRXY"
      },
      "source": [
        "#### RNN\n",
        "\n",
        "This tutorial only builds an autoregressive RNN model, but this pattern could be applied to any model that was designed to output a single timestep.\n",
        "\n",
        "The model will have the same basic form as the single-step `LSTM` models: An `LSTM` followed by a `layers.Dense` that converts the `LSTM` outputs to model predictions.\n",
        "\n",
        "A `layers.LSTM` is a `layers.LSTMCell` wrapped in the higher level `layers.RNN` that manages the state and sequence results for you (See [Keras RNNs](https://www.tensorflow.org/guide/keras/rnn) for details).\n",
        "\n",
        "In this case the model has to manually manage the inputs for each step so it uses `layers.LSTMCell` directly for the lower level, single time step interface."
      ]
    },
    {
      "cell_type": "code",
      "metadata": {
        "id": "s5tz3Nu0R5JG"
      },
      "source": [
        "MAX_EPOCHS = 500\n",
        "!mkdir -p saved_model\n",
        "model_name = 'LSTM'\n",
        "\n",
        "\n",
        "multi_val_performance = {}\n",
        "multi_performance = {}\n",
        "\n",
        "def compile_and_fit(model, window, patience=200):\n",
        "   # Checkpoint callback usage\n",
        "  checkpoint_path = '/content/saved_model/{2}_{0}_200epoch_{1}_cp.ckpt'.format(crop_type, caruid, model_name)\n",
        "  print(checkpoint_path)\n",
        "  checkpoint_path = 'saved_model/Barley_1100/training_1/cp.ckpt'\n",
        "  checkpoint_dir = os.path.dirname(checkpoint_path)\n",
        "  \n",
        "  # Create a callback that saves the model's weights\n",
        "  cp_callback = tf.keras.callbacks.ModelCheckpoint(filepath=checkpoint_dir,\n",
        "                                                  save_weights_only=True,\n",
        "                                                  monitor='val_accuracy',\n",
        "                                                  verbose=1)\n",
        "  \n",
        "  early_stopping = tf.keras.callbacks.EarlyStopping(monitor='val_loss',\n",
        "                                                    patience=patience,\n",
        "                                                    mode='min')\n",
        "\n",
        "  model.compile(loss=tf.losses.MeanSquaredError(),\n",
        "                optimizer=tf.optimizers.Adam(),\n",
        "                metrics=[tf.metrics.MeanAbsoluteError()])\n",
        "\n",
        "  history = model.fit(window.train, epochs=MAX_EPOCHS,\n",
        "                      validation_data=window.val,\n",
        "                      callbacks=[early_stopping])\n",
        "  return history\n",
        "\n",
        "\n",
        "class FeedBack(tf.keras.Model):\n",
        "  def __init__(self, units, out_steps):\n",
        "    super().__init__()\n",
        "    self.out_steps = out_steps\n",
        "    self.units = units\n",
        "    self.lstm_cell = tf.keras.layers.LSTMCell(units)\n",
        "    # Also wrap the LSTMCell in an RNN to simplify the `warmup` method.\n",
        "    self.lstm_rnn = tf.keras.layers.RNN(self.lstm_cell, return_state=True)\n",
        "    self.dense = tf.keras.layers.Dense(num_features)"
      ],
      "execution_count": 55,
      "outputs": []
    },
    {
      "cell_type": "code",
      "metadata": {
        "id": "2OXVM9G1U7xR"
      },
      "source": [
        "OUT_STEPS = 19\n",
        "feedback_model = FeedBack(units=512, out_steps=OUT_STEPS)"
      ],
      "execution_count": 56,
      "outputs": []
    },
    {
      "cell_type": "markdown",
      "metadata": {
        "id": "ph5uFSfTUNho"
      },
      "source": [
        "The first method this model needs is a `warmup` method to initialize its internal state based on the inputs. Once trained this state will capture the relevant parts of the input history. This is equivalent to the single-step `LSTM` model from earlier:"
      ]
    },
    {
      "cell_type": "code",
      "metadata": {
        "id": "vM2K_LLdRjDZ"
      },
      "source": [
        "def warmup(self, inputs):\n",
        "  # inputs.shape => (batch, time, features)\n",
        "  # x.shape => (batch, lstm_units)\n",
        "  x, *state = self.lstm_rnn(inputs)\n",
        "\n",
        "  # predictions.shape => (batch, features)\n",
        "  prediction = self.dense(x)\n",
        "  return prediction, state\n",
        "\n",
        "FeedBack.warmup = warmup"
      ],
      "execution_count": 57,
      "outputs": []
    },
    {
      "cell_type": "markdown",
      "metadata": {
        "id": "6JkaSYaZ9eB7"
      },
      "source": [
        "This method returns a single time-step prediction, and the internal state of the LSTM:"
      ]
    },
    {
      "cell_type": "code",
      "metadata": {
        "id": "w9Fz6NTKXXwU",
        "colab": {
          "base_uri": "https://localhost:8080/"
        },
        "outputId": "a5f5cb99-2a33-4b9b-bd01-c78ece324064"
      },
      "source": [
        "prediction, state = feedback_model.warmup(multi_window.example[0])\n",
        "prediction.shape"
      ],
      "execution_count": 58,
      "outputs": [
        {
          "output_type": "execute_result",
          "data": {
            "text/plain": [
              "TensorShape([32, 9])"
            ]
          },
          "metadata": {
            "tags": []
          },
          "execution_count": 58
        }
      ]
    },
    {
      "cell_type": "markdown",
      "metadata": {
        "id": "S_ZdvPjdX3y3"
      },
      "source": [
        "With the `RNN`'s state, and an initial prediction you can now continue iterating the model feeding the predictions at each step back as the input.\n",
        "\n",
        "The simplest approach to collecting the output predictions is to use a python list, and `tf.stack` after the loop."
      ]
    },
    {
      "cell_type": "markdown",
      "metadata": {
        "id": "yotTad3nZXQU"
      },
      "source": [
        "Note: Stacking a python list like this only works with eager-execution, using `Model.compile(..., run_eagerly=True)` for training, or with a fixed length output. For a dynamic output length you would need to use a `tf.TensorArray` instead of a python list, and `tf.range` instead of the python `range`."
      ]
    },
    {
      "cell_type": "code",
      "metadata": {
        "id": "g1GRDu3mZtr9"
      },
      "source": [
        "def call(self, inputs, training=None):\n",
        "  # Use a TensorArray to capture dynamically unrolled outputs.\n",
        "  predictions = []\n",
        "  # Initialize the lstm state\n",
        "  prediction, state = self.warmup(inputs)\n",
        "\n",
        "  # Insert the first prediction\n",
        "  predictions.append(prediction)\n",
        "\n",
        "  # Run the rest of the prediction steps\n",
        "  for n in range(1, self.out_steps):\n",
        "    # Use the last prediction as input.\n",
        "    x = prediction\n",
        "    # Execute one lstm step.\n",
        "    x, state = self.lstm_cell(x, states=state,\n",
        "                              training=training)\n",
        "    # Convert the lstm output to a prediction.\n",
        "    prediction = self.dense(x)\n",
        "    # Add the prediction to the output\n",
        "    predictions.append(prediction)\n",
        "\n",
        "  # predictions.shape => (time, batch, features)\n",
        "  predictions = tf.stack(predictions)\n",
        "  # predictions.shape => (batch, time, features)\n",
        "  predictions = tf.transpose(predictions, [1, 0, 2])\n",
        "  return predictions\n",
        "\n",
        "FeedBack.call = call"
      ],
      "execution_count": 59,
      "outputs": []
    },
    {
      "cell_type": "markdown",
      "metadata": {
        "id": "Ubop-YWp15XW"
      },
      "source": [
        "Test run this model on the example inputs:"
      ]
    },
    {
      "cell_type": "code",
      "metadata": {
        "id": "Xja83zEYaM2D",
        "colab": {
          "base_uri": "https://localhost:8080/"
        },
        "outputId": "092a85af-5765-4439-dac3-9b2e87ebd8b3"
      },
      "source": [
        "print('Output shape (batch, time, features): ', feedback_model(multi_window.example[0]).shape)"
      ],
      "execution_count": 60,
      "outputs": [
        {
          "output_type": "stream",
          "text": [
            "Output shape (batch, time, features):  (32, 19, 9)\n"
          ],
          "name": "stdout"
        }
      ]
    },
    {
      "cell_type": "markdown",
      "metadata": {
        "id": "qMs0rYB8be9M"
      },
      "source": [
        "Now train the model:"
      ]
    },
    {
      "cell_type": "code",
      "metadata": {
        "id": "VBRVG2hnNyrO",
        "colab": {
          "base_uri": "https://localhost:8080/",
          "height": 514
        },
        "outputId": "eed8b3d1-ec7a-465c-d22d-350f9165b064"
      },
      "source": [
        "history = compile_and_fit(feedback_model, multi_window)\n",
        "\n",
        "IPython.display.clear_output()\n",
        "\n",
        "multi_val_performance['AR LSTM'] = feedback_model.evaluate(multi_window.val)\n",
        "multi_performance['AR LSTM'] = feedback_model.evaluate(multi_window.test, verbose=0)\n",
        "multi_window.plot(feedback_model)\n",
        "\n"
      ],
      "execution_count": 61,
      "outputs": [
        {
          "output_type": "stream",
          "text": [
            "3/3 [==============================] - 0s 8ms/step - loss: 0.8240 - mean_absolute_error: 0.6457\n"
          ],
          "name": "stdout"
        },
        {
          "output_type": "display_data",
          "data": {
            "image/png": "[encoded data removed]",
            "text/plain": [
              "<Figure size 864x576 with 3 Axes>"
            ]
          },
          "metadata": {
            "tags": [],
            "needs_background": "light"
          }
        }
      ]
    },
    {
      "cell_type": "code",
      "metadata": {
        "colab": {
          "base_uri": "https://localhost:8080/"
        },
        "id": "kRUUR7Gj22Ro",
        "outputId": "52487368-4b33-4ff3-f7c5-53d56eba96e3"
      },
      "source": [
        "feedback_model.save('AR_LSTM_Barley_1100_200epoch',save_format=\"tf\")\n",
        "feedback_model.save_weights('AR_LSTM_Barley_1100_200epoch.h5')"
      ],
      "execution_count": 62,
      "outputs": [
        {
          "output_type": "stream",
          "text": [
            "INFO:tensorflow:Assets written to: AR_LSTM_Barley_1100_200epoch/assets\n"
          ],
          "name": "stdout"
        }
      ]
    },
    {
      "cell_type": "markdown",
      "metadata": {
        "id": "hGjcJsAQJUkI"
      },
      "source": [
        "### Performance"
      ]
    },
    {
      "cell_type": "markdown",
      "metadata": {
        "id": "sODAwr2ndtDB"
      },
      "source": [
        "There are clearly diminishing returns as a function of model complexity on this problem."
      ]
    },
    {
      "cell_type": "code",
      "metadata": {
        "id": "WZwWBA8S6B3L",
        "colab": {
          "base_uri": "https://localhost:8080/",
          "height": 402
        },
        "outputId": "5e307cb0-11e3-4379-dde5-20e2c847a99f"
      },
      "source": [
        "x = np.arange(len(multi_performance))\n",
        "width = 0.3\n",
        "\n",
        "\n",
        "metric_name = 'mean_absolute_error'\n",
        "\n",
        "metric_index = feedback_model.metrics_names.index('mean_absolute_error')\n",
        "val_mae = [v[metric_index] for v in multi_val_performance.values()]\n",
        "test_mae = [v[metric_index] for v in multi_performance.values()]\n",
        "\n",
        "plt.bar(x - 0.17, val_mae, width, label='Validation')\n",
        "plt.bar(x + 0.17, test_mae, width, label='Test')\n",
        "plt.xticks(ticks=x, labels=multi_performance.keys(),\n",
        "           rotation=45)\n",
        "plt.ylabel(f'MAE (average over all times and outputs)')\n",
        "_ = plt.legend()"
      ],
      "execution_count": 63,
      "outputs": [
        {
          "output_type": "display_data",
          "data": {
            "image/png": "[encoded data removed]",
            "text/plain": [
              "<Figure size 576x432 with 1 Axes>"
            ]
          },
          "metadata": {
            "tags": [],
            "needs_background": "light"
          }
        }
      ]
    },
    {
      "cell_type": "markdown",
      "metadata": {
        "id": "Zq3hUsedCEmJ"
      },
      "source": [
        "The metrics for the multi-output models in the first half of this tutorial show the performance averaged across all output features. These performances similar but also averaged across output timesteps. "
      ]
    },
    {
      "cell_type": "code",
      "metadata": {
        "id": "jKq3eAIvH4Db",
        "colab": {
          "base_uri": "https://localhost:8080/"
        },
        "outputId": "5c6a8276-28c5-4f60-94c3-fe5f69b8787b"
      },
      "source": [
        "for name, value in multi_performance.items():\n",
        "  print(f'{name:8s}: {value[1]:0.4f}')"
      ],
      "execution_count": 64,
      "outputs": [
        {
          "output_type": "stream",
          "text": [
            "AR LSTM : 1.1089\n"
          ],
          "name": "stdout"
        }
      ]
    },
    {
      "cell_type": "markdown",
      "metadata": {
        "id": "MpBFwfnaHP23"
      },
      "source": [
        "The gains achieved going from a dense model to convolutional and recurrent models are only a few percent (if any), and the autoregressive model performed clearly worse. So these more complex approaches may not be worth while on **this** problem, but there was no way to know without trying, and these models could be helpful for **your** problem."
      ]
    },
    {
      "cell_type": "markdown",
      "metadata": {
        "id": "pOzaIRYBhqwg"
      },
      "source": [
        "## Next steps\n",
        "\n",
        "This tutorial was a quick introduction to time series forecasting using TensorFlow.\n",
        "\n",
        "* For further understanding, see:\n",
        "  * Chapter 15 of [Hands-on Machine Learning with Scikit-Learn, Keras, and TensorFlow](https://www.oreilly.com/library/view/hands-on-machine-learning/9781492032632/), 2nd Edition \n",
        "  * Chapter 6 of [Deep Learning with Python](https://www.manning.com/books/deep-learning-with-python).\n",
        "  * Lesson 8 of [Udacity's intro to TensorFlow for deep learning](https://www.udacity.com/course/intro-to-tensorflow-for-deep-learning--ud187), and the [exercise notebooks](https://github.com/tensorflow/examples/tree/master/courses/udacity_intro_to_tensorflow_for_deep_learning) \n",
        "* Also remember that you can implement any [classical time series model](https://otexts.com/fpp2/index.html) in TensorFlow, this tutorial just focuses on TensorFlow's built-in functionality."
      ]
    }
  ]
}