{
  "nbformat": 4,
  "nbformat_minor": 0,
  "metadata": {
    "colab": {
      "name": "Evaluate_annual_yld.ipynb",
      "provenance": []
    },
    "kernelspec": {
      "name": "python3",
      "display_name": "Python 3"
    },
    "language_info": {
      "name": "python"
    }
  },
  "cells": [
    {
      "cell_type": "code",
      "metadata": {
        "colab": {
          "base_uri": "https://localhost:8080/"
        },
        "id": "OXZhBVMKZ1h0",
        "outputId": "5800f9c5-dc83-415d-ea09-92921ef82560"
      },
      "source": [
        "import os\n",
        "import numpy as np\n",
        "import pandas as pd\n",
        "import seaborn as sns\n",
        "from pylab import rcParams\n",
        "import matplotlib.pyplot as plt\n",
        "from matplotlib import rc\n",
        "from sklearn.metrics import r2_score\n",
        "from sklearn.preprocessing import StandardScaler\n",
        "from sklearn.utils import check_array\n",
        "\n",
        "!pip install hydroeval\n",
        "import hydroeval as he"
      ],
      "execution_count": 36,
      "outputs": [
        {
          "output_type": "stream",
          "text": [
            "Requirement already satisfied: hydroeval in /usr/local/lib/python3.7/dist-packages (0.1.0)\n",
            "Requirement already satisfied: numpy in /usr/local/lib/python3.7/dist-packages (from hydroeval) (1.19.5)\n"
          ],
          "name": "stdout"
        }
      ]
    },
    {
      "cell_type": "code",
      "metadata": {
        "id": "zLEf4bjUeCye"
      },
      "source": [
        "def mean_absolute_percentage_error(y_t, y_p): \n",
        "    \n",
        "  return np.mean(np.abs((y_t - y_p) / y_t)) * 100"
      ],
      "execution_count": 37,
      "outputs": []
    },
    {
      "cell_type": "code",
      "metadata": {
        "id": "DhmTQO9GaxEY"
      },
      "source": [
        "direct = \"/content/drive/MyDrive/Barley_predict\"\n",
        "\n",
        "crop = \"Barley\"\n",
        "lof = os.listdir(direct)\n",
        "\n",
        "car = []\n",
        "r2_car = []\n",
        "mape_car = []\n",
        "nse_car = []\n",
        "\n",
        "for f in lof:\n",
        "\n",
        "  df = pd.read_csv(direct + \"/\" + f)\n",
        "\n",
        "  start = int((df[\"Year\"][0])[0:4])\n",
        "  year_len = int(len(df)/19)\n",
        "\n",
        "  car.append(int(f[7:-4]))\n",
        "\n",
        "  local_actual = []\n",
        "  local_pred = []\n",
        "\n",
        "  for i in range(0, year_len):\n",
        "    actual_yld = np.mean(df[\"Yield\"][(0 + i * 19):(18 + i * 19)])\n",
        "    pred_yld = np.mean(df[\"Predict\"][(0 + i * 19):(18 + i * 19)])\n",
        "\n",
        "    local_actual.append(actual_yld)\n",
        "    local_pred.append(pred_yld)\n",
        "  \n",
        "  correlation_matrix = np.corrcoef(local_actual, local_pred)\n",
        "  correlation_xy = correlation_matrix[0,1]\n",
        "  r2 = correlation_xy**2\n",
        "\n",
        "  mape = mean_absolute_percentage_error(np.array(local_actual), np.array(local_pred))\n",
        "  nse = he.evaluator(he.nse, local_pred, local_actual)\n",
        "\n",
        "  r2_car.append(r2)\n",
        "  mape_car.append(mape)\n",
        "  nse_car.append(nse[0])\n",
        "\n",
        "performance_df = pd.DataFrame(data={\"CARUID\": car, \"R_squared\": r2_car,\n",
        "                   \"MAPE\": mape_car, \"MEI\": nse_car})\n",
        "performance_df.to_csv(\"/content/drive/MyDrive/\" + crop + \"_predict/\" + crop + \"_performance.csv\", index=False)"
      ],
      "execution_count": 38,
      "outputs": []
    },
    {
      "cell_type": "code",
      "metadata": {
        "colab": {
          "base_uri": "https://localhost:8080/"
        },
        "id": "WVYpObkJbkMX",
        "outputId": "016d112f-c30c-496f-a510-c65762dc33d1"
      },
      "source": [
        "actual_yld"
      ],
      "execution_count": 40,
      "outputs": [
        {
          "output_type": "execute_result",
          "data": {
            "text/plain": [
              "65.5"
            ]
          },
          "metadata": {
            "tags": []
          },
          "execution_count": 40
        }
      ]
    }
  ]
}