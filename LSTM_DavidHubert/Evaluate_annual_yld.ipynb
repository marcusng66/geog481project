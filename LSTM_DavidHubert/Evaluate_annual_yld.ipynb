{
  "nbformat": 4,
  "nbformat_minor": 0,
  "metadata": {
    "colab": {
      "name": "Evaluate_annual_yld.ipynb",
      "provenance": []
    },
    "kernelspec": {
      "name": "python3",
      "display_name": "Python 3"
    },
    "language_info": {
      "name": "python"
    }
  },
  "cells": [
    {
      "cell_type": "code",
      "metadata": {
        "colab": {
          "base_uri": "https://localhost:8080/"
        },
        "id": "OXZhBVMKZ1h0",
        "outputId": "9ee6db3e-2f9a-4087-ddae-f34971a1940b"
      },
      "source": [
        "##Executed after LSTM_long_final.ipynb, or CNN variant of code\n",
        "##Since the predictions in long-format have yields that are supposed to represent\n",
        "##annual yields repeating 19 times, they are to be averaged and have their\n",
        "##evaluation metrics done again.\n",
        "\n",
        "##import the libraries\n",
        "import os\n",
        "import numpy as np\n",
        "import pandas as pd\n",
        "import seaborn as sns\n",
        "from pylab import rcParams\n",
        "import matplotlib.pyplot as plt\n",
        "from matplotlib import rc\n",
        "from sklearn.metrics import r2_score\n",
        "from sklearn.preprocessing import StandardScaler\n",
        "from sklearn.utils import check_array\n",
        "from sklearn.metrics import mean_squared_error\n",
        "\n",
        "!pip install hydroeval\n",
        "import hydroeval as he"
      ],
      "execution_count": null,
      "outputs": [
        {
          "output_type": "stream",
          "text": [
            "Collecting hydroeval\n",
            "  Downloading hydroeval-0.1.0-py3-none-any.whl (22 kB)\n",
            "Requirement already satisfied: numpy in /usr/local/lib/python3.7/dist-packages (from hydroeval) (1.19.5)\n",
            "Installing collected packages: hydroeval\n",
            "Successfully installed hydroeval-0.1.0\n"
          ],
          "name": "stdout"
        }
      ]
    },
    {
      "cell_type": "code",
      "metadata": {
        "id": "zLEf4bjUeCye"
      },
      "source": [
        "##Define MAPE function\n",
        "def mean_absolute_percentage_error(y_t, y_p): \n",
        "    \n",
        "  return np.mean(np.abs((y_t - y_p) / y_t)) * 100"
      ],
      "execution_count": null,
      "outputs": []
    },
    {
      "cell_type": "code",
      "metadata": {
        "id": "DhmTQO9GaxEY"
      },
      "source": [
        "##Get directory containing \n",
        "direct = \"/content/drive/MyDrive/Canola_predict\"\n",
        "##Set name of crop being processed\n",
        "crop = \"Canola\"\n",
        "lof = sorted(os.listdir(direct))\n",
        "\n",
        "##Set up empty array for dataframe to be written to .csv file\n",
        "car = []\n",
        "r2_car = []\n",
        "mape_car = []\n",
        "nse_car = []\n",
        "rmse_car = []\n",
        "\n",
        "all_car = []\n",
        "years = []\n",
        "all_actual = []\n",
        "all_pred = []\n",
        "\n",
        "##For each .csv file containing predicted yields\n",
        "for f in lof:\n",
        "\n",
        "  df = pd.read_csv(direct + \"/\" + f)\n",
        "\n",
        "  ##Get the starting year of the caruid\n",
        "  start = int((df[\"Year\"][0])[0:4])\n",
        "  ##Get length of year range\n",
        "  year_len = int(len(df)/19)\n",
        "\n",
        "  ##Get caruid\n",
        "  car.append(int(f[7:-4]))\n",
        "\n",
        "  ##Empty array for caruid's actual and predicted yield\n",
        "  local_actual = []\n",
        "  local_pred = []\n",
        "\n",
        "  ##Average each yield and actual yield of each year\n",
        "  for i in range(0, year_len):\n",
        "    actual_yld = np.mean(df[\"Yield\"][(0 + i * 19):(18 + i * 19)])\n",
        "    pred_yld = np.mean(df[\"Predict\"][(0 + i * 19):(18 + i * 19)])\n",
        "\n",
        "    local_actual.append(actual_yld)\n",
        "    all_actual.append(actual_yld)\n",
        "    local_pred.append(pred_yld)\n",
        "    all_pred.append(pred_yld)\n",
        "\n",
        "    all_car.append(int(f[7:-4]))\n",
        "    years.append(start + i)\n",
        "  \n",
        "  ##Do all the evaluation metrics of the \"annualized\" prediction values\n",
        "  correlation_matrix = np.corrcoef(local_actual, local_pred)\n",
        "  correlation_xy = correlation_matrix[0,1]\n",
        "  r2 = correlation_xy**2\n",
        "\n",
        "  mape = mean_absolute_percentage_error(np.array(local_actual), np.array(local_pred))\n",
        "  nse = he.evaluator(he.nse, local_pred, local_actual)\n",
        "\n",
        "  rmse = mean_squared_error(local_actual, local_pred, squared=False)\n",
        "\n",
        "  r2_car.append(r2)\n",
        "  mape_car.append(mape)\n",
        "  nse_car.append(nse[0])\n",
        "  rmse_car.append(rmse)\n",
        "\n",
        "##First write \"annualized\" yield prediction to .csv file that contains all caruid\n",
        "forecast_df = pd.DataFrame(data={\"Year\": years, \"CARUID\": all_car, \"Predicted\": all_pred,\n",
        "                   \"Actual\": all_actual})\n",
        "forecast_df.to_csv(\"/content/drive/MyDrive/\" + crop + \"_annualized_YieldForecast/\" + crop + \"_annualized_forecast.csv\", index=False)\n",
        "\n",
        "##Write to .csv file which contains evaluation metric for \"annualized\" prediction\n",
        "performance_df = pd.DataFrame(data={\"CARUID\": car, \"R_squared\": r2_car,\n",
        "                   \"MAPE\": mape_car, \"MEI\": nse_car, \"RMSE\": rmse_car})\n",
        "performance_df.to_csv(\"/content/drive/MyDrive/\" + crop + \"_annualized_YieldForecast/\" + crop + \"_annual_performance.csv\", index=False)"
      ],
      "execution_count": null,
      "outputs": []
    },
    {
      "cell_type": "code",
      "metadata": {
        "colab": {
          "base_uri": "https://localhost:8080/"
        },
        "id": "WVYpObkJbkMX",
        "outputId": "944ecfe7-b5e3-4444-fadb-9c13bc1173d3"
      },
      "source": [
        "actual_yld"
      ],
      "execution_count": null,
      "outputs": [
        {
          "output_type": "execute_result",
          "data": {
            "text/plain": [
              "29.5"
            ]
          },
          "metadata": {
            "tags": []
          },
          "execution_count": 4
        }
      ]
    }
  ]
}