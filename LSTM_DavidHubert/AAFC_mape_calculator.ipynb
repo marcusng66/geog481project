{
  "nbformat": 4,
  "nbformat_minor": 0,
  "metadata": {
    "colab": {
      "name": "AAFC_mape_calculator.ipynb",
      "provenance": []
    },
    "kernelspec": {
      "name": "python3",
      "display_name": "Python 3"
    },
    "language_info": {
      "name": "python"
    }
  },
  "cells": [
    {
      "cell_type": "code",
      "metadata": {
        "id": "VfZCJtW2Fs35"
      },
      "source": [
        "##Since AAFC forecast and evaluation folder did not provide mean absolute error\n",
        "##percentage error, it had to be calculated.\n",
        "\n",
        "#import libraries\n",
        "import os\n",
        "import numpy as np\n",
        "import pandas as pd\n",
        "import seaborn as sns"
      ],
      "execution_count": null,
      "outputs": []
    },
    {
      "cell_type": "code",
      "metadata": {
        "id": "Z4D_pS_qGPo7"
      },
      "source": [
        "##Define MAPE function\n",
        "def mean_absolute_percentage_error(y_t, y_p): \n",
        "    \n",
        "  return np.mean(np.abs((y_t - y_p) / y_t)) * 100"
      ],
      "execution_count": null,
      "outputs": []
    },
    {
      "cell_type": "code",
      "metadata": {
        "id": "GG9GGSNHGRSE"
      },
      "source": [
        "##The folder contains three files:\n",
        "##BARLEY_AVHRR-Weekly_LM_forecast.csv\n",
        "##CANOLA_AVHRR-Weekly_LM_forecast.csv\n",
        "##SPRWHT_AVHRR-Weekly_LM_forecast.csv\n",
        "##Which contains forecasted yield from AAFC\n",
        "\n",
        "direct = \"/content/drive/MyDrive/AAFC_forecast\"\n",
        "\n",
        "lof = os.listdir(direct)\n",
        "\n",
        "for f in lof:\n",
        "\n",
        "  caruid = []\n",
        "  mape_car = []\n",
        "  \n",
        "  df = pd.read_csv(direct + \"/\" + f)\n",
        "  car = sorted(df['CARUID'].unique())\n",
        "\n",
        "  ##Calculate MAPE for each caruid in file\n",
        "  for c in car:\n",
        "    c_2 = df.loc[df['CARUID'] == c]\n",
        "    local_true = c_2['Surveyed']\n",
        "    local_pred = c_2['Predicted']\n",
        "    c_mape = mean_absolute_percentage_error(np.array(local_true), np.array(local_pred))\n",
        "    caruid.append(c)\n",
        "    mape_car.append(c_mape)\n",
        "  \n",
        "  ##Write .csv file containing MAPE metric for a specific crop\n",
        "  mape_df = pd.DataFrame(data={\"CARUID\": caruid, \"MAPE\": mape_car})\n",
        "  mape_df.to_csv(\"/content/drive/MyDrive/AAFC_mape/\" + f[0:6] + \"_mape.csv\", index=False)\n"
      ],
      "execution_count": null,
      "outputs": []
    },
    {
      "cell_type": "code",
      "metadata": {
        "id": "qTipzPJoJE2P"
      },
      "source": [
        ""
      ],
      "execution_count": null,
      "outputs": []
    }
  ]
}